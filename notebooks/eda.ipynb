{
 "cells": [
  {
   "cell_type": "code",
   "execution_count": null,
   "metadata": {},
   "outputs": [],
   "source": [
    "import pandas as pd\n",
    "import numpy as np\n",
    "import datetime\n",
    "import re\n",
    "from collections import Counter"
   ]
  },
  {
   "cell_type": "markdown",
   "metadata": {},
   "source": [
    "## Load Data\n",
    "- session\n",
    "  - drop : expired_at=NaN\n",
    "  - add 9 hours : created_at, expired_at, login_at\n",
    "- click\n",
    "- view\n",
    "- like\n",
    "  - drop : is_deleted=True\n",
    "  - add 9 hours : timestamp"
   ]
  },
  {
   "cell_type": "code",
   "execution_count": null,
   "metadata": {},
   "outputs": [],
   "source": [
    "def process_timestamp(df: pd.DataFrame, col: str):\n",
    "    mask = df[col].notna()\n",
    "    df.loc[mask, col] = pd.to_datetime(df.loc[mask, col]) + datetime.timedelta(hours=9)\n",
    "    df.loc[mask, col] = df.loc[mask, col].apply(lambda x: x.strftime(\"%y-%m-%d %H:%M:%S\"))"
   ]
  },
  {
   "cell_type": "code",
   "execution_count": null,
   "metadata": {},
   "outputs": [],
   "source": [
    "session = pd.read_csv(\"../data/session.csv\")\n",
    "# session = session.dropna(subset=['expired_at'], axis=0).reset_index(drop=True)\n",
    "\n",
    "for col in ['created_at', 'expired_at', 'login_at']:\n",
    "    process_timestamp(session, col)\n",
    "\n",
    "session"
   ]
  },
  {
   "cell_type": "code",
   "execution_count": null,
   "metadata": {},
   "outputs": [],
   "source": [
    "click_0719 = pd.read_csv(\"../data/2023-07-19/click_image_log.txt\")\n",
    "click_0720 = pd.read_csv(\"../data/2023-07-20/click_image_log.txt\")\n",
    "click_0721 = pd.read_csv(\"../data/2023-07-21/click_image_log.txt\")\n",
    "click = pd.concat([click_0719, click_0720, click_0721], axis=0, ignore_index=True)\n",
    "click"
   ]
  },
  {
   "cell_type": "code",
   "execution_count": null,
   "metadata": {},
   "outputs": [],
   "source": [
    "view_0719 = pd.read_csv(\"../data/2023-07-19/view_image_log.txt\")\n",
    "view_0720 = pd.read_csv(\"../data/2023-07-20/view_image_log.txt\")\n",
    "view_0721 = pd.read_csv(\"../data/2023-07-21/view_image_log.txt\")\n",
    "view = pd.concat([view_0719, view_0720, view_0721], axis=0, ignore_index=True)\n",
    "view"
   ]
  },
  {
   "cell_type": "code",
   "execution_count": null,
   "metadata": {},
   "outputs": [],
   "source": [
    "like = pd.read_csv(\"../data/like.csv\")\n",
    "like = like[like['is_deleted']==False]\n",
    "like['timestamp'] = pd.to_datetime(like['timestamp']) + datetime.timedelta(hours=9)\n",
    "like['timestamp'] = pd.to_datetime(like['timestamp']).apply(lambda x: x.strftime(\"%y-%m-%d %H:%M:%S\"))\n",
    "like = like.drop(columns=[\"like_id\"]).reset_index(drop=True)\n",
    "like"
   ]
  },
  {
   "cell_type": "code",
   "execution_count": null,
   "metadata": {},
   "outputs": [],
   "source": [
    "like_click = pd.concat([like, click], axis=0, ignore_index=True)\n",
    "like_click"
   ]
  },
  {
   "cell_type": "code",
   "execution_count": null,
   "metadata": {},
   "outputs": [],
   "source": [
    "like_click = like_click.drop_duplicates(subset=['session_id', 'outfit_id'], keep='last')\n",
    "like_click"
   ]
  },
  {
   "cell_type": "code",
   "execution_count": null,
   "metadata": {},
   "outputs": [],
   "source": [
    "like_click['session_id'].value_counts().hist(bins=15)"
   ]
  },
  {
   "cell_type": "code",
   "execution_count": null,
   "metadata": {},
   "outputs": [],
   "source": [
    "sum(like_click['session_id'].value_counts() < 2)"
   ]
  },
  {
   "cell_type": "code",
   "execution_count": null,
   "metadata": {},
   "outputs": [],
   "source": [
    "view['session_id'].value_counts()"
   ]
  },
  {
   "cell_type": "markdown",
   "metadata": {},
   "source": [
    "## Load Metadata"
   ]
  },
  {
   "cell_type": "code",
   "execution_count": null,
   "metadata": {},
   "outputs": [],
   "source": [
    "outfit = pd.read_csv(\"../data/outfit.csv\")\n",
    "outfit.drop(columns=['img_url', 'origin_url', 'reporter'], inplace=True)\n",
    "outfit"
   ]
  },
  {
   "cell_type": "code",
   "execution_count": null,
   "metadata": {},
   "outputs": [],
   "source": [
    "outfit['style'].value_counts()"
   ]
  },
  {
   "cell_type": "code",
   "execution_count": null,
   "metadata": {},
   "outputs": [],
   "source": [
    "# def check_string_inclusion(df: pd.DataFrame, col: str, pattern: str):\n",
    "#     return df[col].str.contains(pattern).astype(int)\n",
    "\n",
    "# season_map = {'봄': 'spring', '여름': 'summer', '가을': 'fall', '겨울': 'winter'}\n",
    "# for 계절, season in season_map.items():\n",
    "#     outfit[season] = check_string_inclusion(outfit, 'tags', 계절)\n",
    "# outfit"
   ]
  },
  {
   "cell_type": "code",
   "execution_count": null,
   "metadata": {},
   "outputs": [],
   "source": [
    "season_map = {'봄': 'spring', '여름': 'summer', '가을': 'fall', '겨울': 'winter'}\n",
    "outfit['season'] = np.nan\n",
    "for 계절 in season_map.keys():\n",
    "    outfit['season'] = np.where(outfit['tags'].str.contains(계절),\n",
    "                                계절, outfit['season'])\n",
    "outfit"
   ]
  },
  {
   "cell_type": "code",
   "execution_count": null,
   "metadata": {},
   "outputs": [],
   "source": [
    "outfit['season'].value_counts()"
   ]
  },
  {
   "cell_type": "code",
   "execution_count": null,
   "metadata": {},
   "outputs": [],
   "source": [
    "outfit['year'] = outfit['date'].str[:4]\n",
    "outfit['year'].value_counts()"
   ]
  },
  {
   "cell_type": "code",
   "execution_count": null,
   "metadata": {},
   "outputs": [],
   "source": [
    "outfit['brands'] = outfit['brands'].str.replace(r\"[{}]\", \"\", regex=True)\n",
    "outfit['tags'] = outfit['tags'].str.replace(r\"[{}]\", \"\", regex=True)\n",
    "outfit"
   ]
  },
  {
   "cell_type": "code",
   "execution_count": null,
   "metadata": {},
   "outputs": [],
   "source": [
    "outfit['gender'] = outfit['gender'].map({'F': '여성', 'M': '남성'})\n",
    "outfit['gender'].value_counts()"
   ]
  },
  {
   "cell_type": "code",
   "execution_count": null,
   "metadata": {},
   "outputs": [],
   "source": [
    "outfit['brands'].fillna('unknown', inplace=True)\n",
    "outfit['style'].fillna('unknown', inplace=True)\n",
    "outfit.isnull().sum()"
   ]
  },
  {
   "cell_type": "code",
   "execution_count": null,
   "metadata": {},
   "outputs": [],
   "source": [
    "def process_tags(row):\n",
    "    tags = row['tags']\n",
    "    gender = row['gender']\n",
    "    brands = row['brands'].split(\",\")\n",
    "    style = row['style']\n",
    "    season = row['season']\n",
    "\n",
    "    for brand in brands:\n",
    "        tags = tags.replace(brand, \"\")\n",
    "    tags = tags.replace(gender, \"\").replace(style, \"\").replace(season, \"\")\n",
    "    \n",
    "    return tags\n",
    "\n",
    "\n",
    "outfit['tags_'] = outfit.apply(process_tags, axis=1)"
   ]
  },
  {
   "cell_type": "code",
   "execution_count": null,
   "metadata": {},
   "outputs": [],
   "source": [
    "outfit"
   ]
  },
  {
   "cell_type": "code",
   "execution_count": null,
   "metadata": {},
   "outputs": [],
   "source": [
    "outfit['brands'].value_counts()"
   ]
  },
  {
   "cell_type": "code",
   "execution_count": null,
   "metadata": {},
   "outputs": [],
   "source": [
    "outfit['style'].value_counts(normalize=True)"
   ]
  },
  {
   "cell_type": "code",
   "execution_count": null,
   "metadata": {},
   "outputs": [],
   "source": [
    "outfit[outfit['brands']=='unknown']['style'].value_counts(normalize=True)"
   ]
  }
 ],
 "metadata": {
  "kernelspec": {
   "display_name": "backend",
   "language": "python",
   "name": "python3"
  },
  "language_info": {
   "codemirror_mode": {
    "name": "ipython",
    "version": 3
   },
   "file_extension": ".py",
   "mimetype": "text/x-python",
   "name": "python",
   "nbconvert_exporter": "python",
   "pygments_lexer": "ipython3",
   "version": "3.9.0"
  },
  "orig_nbformat": 4
 },
 "nbformat": 4,
 "nbformat_minor": 2
}
