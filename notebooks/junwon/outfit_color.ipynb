{
 "cells": [
  {
   "cell_type": "code",
   "execution_count": null,
   "metadata": {},
   "outputs": [],
   "source": [
    "import pandas as pd"
   ]
  },
  {
   "cell_type": "code",
   "execution_count": null,
   "metadata": {},
   "outputs": [],
   "source": [
    "outfit_df = pd.read_csv('../../data/new_final_meta.csv')"
   ]
  },
  {
   "cell_type": "code",
   "execution_count": null,
   "metadata": {},
   "outputs": [],
   "source": [
    "outfit_df = outfit_df[['outfit_id', 'gender', 'tags', 'style','new_tags']]"
   ]
  },
  {
   "cell_type": "code",
   "execution_count": null,
   "metadata": {},
   "outputs": [],
   "source": [
    "outfit_df"
   ]
  },
  {
   "cell_type": "markdown",
   "metadata": {},
   "source": [
    "# 성별, 계절, 색상, 스타일"
   ]
  },
  {
   "cell_type": "code",
   "execution_count": null,
   "metadata": {},
   "outputs": [],
   "source": [
    "# 'tags' 열의 텍스트에 따라 'season' 열을 생성하는 함수\n",
    "def map_tags_to_season(tags_text):\n",
    "    if '봄' in tags_text :\n",
    "        return 'spring'\n",
    "    elif '여름' in tags_text:\n",
    "        return 'summer'\n",
    "    elif '가을' in tags_text:\n",
    "        return 'fall'\n",
    "    elif '겨울' in tags_text:\n",
    "        return 'winter'\n",
    "    \n",
    "    else:\n",
    "        return None\n",
    "\n",
    "# 'tags' 열을 기반으로 'season' 열 생성\n",
    "outfit_df['season'] = outfit_df['tags'].apply(map_tags_to_season)"
   ]
  },
  {
   "cell_type": "code",
   "execution_count": null,
   "metadata": {},
   "outputs": [],
   "source": [
    "outfit_df.loc[outfit_df['outfit_id']==86019, 'season'] = 'fall'\n",
    "outfit_df.loc[outfit_df['outfit_id']==86018, 'season'] = 'fall'\n",
    "outfit_df.loc[outfit_df['outfit_id']==91266, 'season'] = 'spring'\n",
    "outfit_df.loc[outfit_df['outfit_id']==85922, 'season'] = 'winter'"
   ]
  },
  {
   "cell_type": "code",
   "execution_count": null,
   "metadata": {},
   "outputs": [],
   "source": [
    "outfit_df['new_tags']"
   ]
  },
  {
   "cell_type": "code",
   "execution_count": null,
   "metadata": {},
   "outputs": [],
   "source": [
    "combined_tags = outfit_df['new_tags'].apply(lambda x: x.split(','))\n",
    "\n",
    "tags_set = set()\n",
    "for tag_list in combined_tags:\n",
    "    for tag in tag_list:  \n",
    "        tags_set.add(tag)    \n"
   ]
  },
  {
   "cell_type": "code",
   "execution_count": null,
   "metadata": {},
   "outputs": [],
   "source": [
    "color_words1 = ['블랙', '그린', '블루', '레드', '옐로우', '그레이', '화이트', '베이지', '오렌지', '핑크', '퍼플', '카키', '네이비', '브라운', '연청', '청색', '라임', '아쿠아', '머스타드', '레몬', '라벤더', '퍼시안', '미디엄', '다크', '너트', '살구', '코랄', '실버', '골드', '라벨']\n",
    "\n",
    "color_words2 = ['그린', '화이트', '블루', '브라운', '네이비', '핑크', '옐로우', '인디고', '블랙', '라임', '레드', '오렌지', '민트', '버건디', '라벤더', '베이지', '아이보리', '그레이', '퍼플', '브론즈', '골드', '버터']\n",
    "\n",
    "color_words3 = ['블랙', '그린', '블루', '레드', '옐로우', '그레이', '화이트', '베이지', '오렌지', '핑크', '브라운', '파랑', '라이트', '네이비', '퍼플', '와인', '노랑', '그린', '다크', '실버', '골드', '흰색', '노란색', '빨간색', '파란색', '초록색', '보라색', '주황색', '핑크색', '갈색', '회색', '검은색', '하얀색', '분홍색']\n",
    "\n",
    "color_set = set(color_words1 + color_words2 + color_words3 )"
   ]
  },
  {
   "cell_type": "code",
   "execution_count": null,
   "metadata": {},
   "outputs": [],
   "source": [
    "color_set"
   ]
  },
  {
   "cell_type": "code",
   "execution_count": null,
   "metadata": {},
   "outputs": [],
   "source": [
    "color_lst = []\n",
    "for tag_list in combined_tags:\n",
    "    tmp_lst = []\n",
    "    for tag in tag_list:\n",
    "        if tag in color_set:\n",
    "            tmp_lst.append(tag)\n",
    "    color_lst.append(tmp_lst)\n",
    "            \n",
    "color_lst  "
   ]
  },
  {
   "cell_type": "code",
   "execution_count": null,
   "metadata": {},
   "outputs": [],
   "source": [
    "outfit_df['color'] = color_lst"
   ]
  },
  {
   "cell_type": "code",
   "execution_count": null,
   "metadata": {},
   "outputs": [],
   "source": [
    "import pandas as pd\n",
    "import numpy as np\n",
    "\n",
    "# Assuming outfit_df is your DataFrame\n",
    "outfit_df['color'] = outfit_df['color'].apply(lambda x: np.nan if len(x) == 0 else x)\n"
   ]
  },
  {
   "cell_type": "code",
   "execution_count": null,
   "metadata": {},
   "outputs": [],
   "source": [
    "outfit_df['color'].isna().sum()"
   ]
  },
  {
   "cell_type": "code",
   "execution_count": null,
   "metadata": {},
   "outputs": [],
   "source": [
    "outfit_df['color']"
   ]
  },
  {
   "cell_type": "code",
   "execution_count": null,
   "metadata": {},
   "outputs": [],
   "source": [
    "outfit_df = outfit_df['outfit_id']"
   ]
  }
 ],
 "metadata": {
  "kernelspec": {
   "display_name": "jun",
   "language": "python",
   "name": "python3"
  },
  "language_info": {
   "codemirror_mode": {
    "name": "ipython",
    "version": 3
   },
   "file_extension": ".py",
   "mimetype": "text/x-python",
   "name": "python",
   "nbconvert_exporter": "python",
   "pygments_lexer": "ipython3",
   "version": "3.9.0"
  },
  "orig_nbformat": 4
 },
 "nbformat": 4,
 "nbformat_minor": 2
}
