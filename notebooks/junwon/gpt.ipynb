{
 "cells": [
  {
   "cell_type": "code",
   "execution_count": null,
   "metadata": {},
   "outputs": [],
   "source": [
    "import pandas as pd\n",
    "gpt_df = pd.read_csv('../../data/new_final_meta.csv')"
   ]
  },
  {
   "cell_type": "code",
   "execution_count": null,
   "metadata": {},
   "outputs": [],
   "source": [
    "outfit_id_list = [(outfit_id) for outfit_id in gpt_df['outfit_id']]"
   ]
  },
  {
   "cell_type": "code",
   "execution_count": null,
   "metadata": {},
   "outputs": [],
   "source": [
    "outfit_df = gpt_df.copy()"
   ]
  },
  {
   "cell_type": "code",
   "execution_count": null,
   "metadata": {},
   "outputs": [],
   "source": [
    "outfit_df"
   ]
  },
  {
   "cell_type": "markdown",
   "metadata": {},
   "source": [
    "## TF-IDF, cosine 유사도 구하기"
   ]
  },
  {
   "cell_type": "code",
   "execution_count": null,
   "metadata": {},
   "outputs": [],
   "source": [
    "from sklearn.feature_extraction.text import TfidfVectorizer\n",
    "from sklearn.metrics.pairwise import cosine_similarity\n",
    "\n",
    "# Tokenize the 'new_tags' column by comma and convert to a list of lists\n",
    "gpt_df['new_tags'] = gpt_df['new_tags'].apply(lambda x: x.split(','))\n",
    "\n",
    "# Create TfidfVectorizer and fit_transform the documents\n",
    "vectorizer = TfidfVectorizer()\n",
    "tfidf_matrix = vectorizer.fit_transform(gpt_df['new_tags'].apply(','.join))\n",
    "\n",
    "# Compute cosine similarity between the documents\n",
    "cosine_similarities = cosine_similarity(tfidf_matrix)\n",
    "\n",
    "# Store similarities in a nested list\n",
    "similarities = []\n",
    "num_documents = len(gpt_df['new_tags'])\n",
    "for i in range(num_documents):\n",
    "    tmp_lst = []\n",
    "    for j in range(num_documents):\n",
    "        tmp_lst.append(cosine_similarities[i][j])\n",
    "    similarities.append(tmp_lst)\n"
   ]
  },
  {
   "cell_type": "code",
   "execution_count": null,
   "metadata": {},
   "outputs": [],
   "source": [
    "similarities[1][:]"
   ]
  },
  {
   "cell_type": "code",
   "execution_count": null,
   "metadata": {},
   "outputs": [],
   "source": [
    "import numpy as np\n",
    "import csv\n",
    "\n",
    "# ... (previous code)\n",
    "\n",
    "# Initialize a list to store the data\n",
    "data = []\n",
    "\n",
    "# Iterate over all items\n",
    "for sentence_idx in range(len(outfit_id_list)):\n",
    "    # Get the similarities for the specified item\n",
    "    similarities_for_sentence = similarities[sentence_idx]\n",
    "\n",
    "    # Sort the similarities in descending order and get the indices of the sorted similarities\n",
    "    sorted_indices = np.argsort(similarities_for_sentence)[::-1]\n",
    "\n",
    "    # Get the top 10 most similar item indices (excluding the original item)\n",
    "    top_100_indices = sorted_indices[1:301]\n",
    "\n",
    "    # Get the outfit_id for the current item\n",
    "    outfit_id = outfit_id_list[sentence_idx]\n",
    "\n",
    "    # Get the outfit_id for the top 10 most similar items\n",
    "    similar_outfits = [int(outfit_id_list[idx]) for idx in top_100_indices]\n",
    "\n",
    "\n",
    "    data.append([outfit_id, similar_outfits])\n",
    "\n",
    "# Save the data to a CSV file\n",
    "csv_filename = 'similar-gpt.csv'\n",
    "with open(csv_filename, 'w', newline='') as csvfile:\n",
    "    csv_writer = csv.writer(csvfile)\n",
    "    csv_writer.writerow(['outfit_id', 'similar_outfits'])\n",
    "\n",
    "    # Write data rows to the CSV file\n",
    "    for row in data:\n",
    "        # Write the 'similar_outfits' list as a comma-separated string\n",
    "        row[1] = \",\".join(str(item) for item in row[1])\n",
    "        csv_writer.writerow(row)\n",
    "\n",
    "print(f\"Data saved to {csv_filename}.\")\n"
   ]
  },
  {
   "cell_type": "markdown",
   "metadata": {},
   "source": [
    "## PostProcessing"
   ]
  },
  {
   "cell_type": "code",
   "execution_count": null,
   "metadata": {},
   "outputs": [],
   "source": [
    "df = pd.read_csv('./similar-gpt.csv')"
   ]
  },
  {
   "cell_type": "code",
   "execution_count": null,
   "metadata": {},
   "outputs": [],
   "source": [
    "import ast\n",
    "\n",
    "# Assuming 'similar_outfits' column contains strings representing lists, e.g., \"[101, 102, 103]\"\n",
    "# Convert the strings back to lists of integers\n",
    "df['similar_outfits'] = df['similar_outfits'].apply(lambda x: ast.literal_eval(x) if isinstance(x, str) else x)\n",
    "\n",
    "# Function to remove outfit_id if it exists in the 'similar_outfits' list\n",
    "def remove_outfit_from_similar(outfit_id_list, similar_list):\n",
    "    return [outfit_id for outfit_id in outfit_id_list if outfit_id not in similar_list]\n",
    "\n",
    "# Apply the function to each row of the DataFrame\n",
    "df['similar_outfits'] = df.apply(lambda row: remove_outfit_from_similar(row['similar_outfits'], [row['outfit_id']]), axis=1)\n",
    "\n",
    "# Now, each row of the 'similar_outfits' column will be a list without the 'outfit_id' if it existed in the list before.\n"
   ]
  },
  {
   "cell_type": "code",
   "execution_count": null,
   "metadata": {},
   "outputs": [],
   "source": [
    "df"
   ]
  },
  {
   "cell_type": "code",
   "execution_count": null,
   "metadata": {},
   "outputs": [],
   "source": [
    "data = []\n",
    "# Your existing outfit_df and df data...\n",
    "outfit_id_list = df['outfit_id'].tolist()\n",
    "cnt=0\n",
    "for outfit_id in outfit_id_list:\n",
    "    main_gender = gpt_df.loc[gpt_df['outfit_id'] == outfit_id, ['gender']].values[0][0]\n",
    "    num =0\n",
    "    main_cluster = gpt_df.loc[gpt_df['outfit_id'] == outfit_id, ['cluster']].values[0][0]\n",
    "    similar_list=[]\n",
    "    similar_outfits_list = df.loc[df['outfit_id'] == outfit_id, 'similar_outfits'].values[0]\n",
    "    for similar_id in similar_outfits_list:\n",
    "        similar_gender = gpt_df.loc[gpt_df['outfit_id'] == similar_id, ['gender']].values[0][0]\n",
    "        similar_cluster = gpt_df.loc[gpt_df['outfit_id'] == similar_id, ['cluster']].values[0][0]\n",
    "\n",
    "        if main_gender==similar_gender and outfit_id != similar_id and main_cluster==similar_cluster :\n",
    "            similar_list.append(similar_id)\n",
    "            num+=1\n",
    "            \n",
    "        if num==10:\n",
    "            cnt+=1\n",
    "            print(cnt)\n",
    "            break\n",
    "        \n",
    "    data.append([outfit_id, similar_list])\n",
    "    # data.append([outfit_id, \"{\" + ','.join(map(str, similar_outfits)) + \"}\"])\n",
    "\n",
    "# Save the data to a CSV file\n",
    "csv_filename = 'similar-gpt-filter.csv'\n",
    "with open(csv_filename, 'w', newline='') as csvfile:\n",
    "    csv_writer = csv.writer(csvfile)\n",
    "    csv_writer.writerow(['outfit_id', 'similar_outfits'])\n",
    "    csv_writer.writerows(data)\n",
    "\n",
    "print(f\"Data saved to {csv_filename}.\")\n"
   ]
  },
  {
   "cell_type": "markdown",
   "metadata": {},
   "source": [
    "## 중복 확인"
   ]
  },
  {
   "cell_type": "code",
   "execution_count": null,
   "metadata": {},
   "outputs": [],
   "source": [
    "filter =pd.read_csv('./similar-gpt-filter.csv')"
   ]
  },
  {
   "cell_type": "code",
   "execution_count": null,
   "metadata": {},
   "outputs": [],
   "source": [
    "filter"
   ]
  },
  {
   "cell_type": "code",
   "execution_count": null,
   "metadata": {},
   "outputs": [],
   "source": [
    "import pandas as pd\n",
    "\n",
    "# Assuming 'filter' is the DataFrame containing 'similar_outfits' column with comma-separated strings within square brackets\n",
    "# Convert comma-separated strings to lists of integers\n",
    "filter['similar_outfits'] = filter['similar_outfits'].apply(lambda x: [int(outfit_id) for outfit_id in x[1:-1].split(',') if outfit_id.strip()])\n",
    "\n",
    "# Calculate the length of the lists in 'similar_outfits' column and create a new column 'length_of_similar_outfits'\n",
    "filter['length_of_similar_outfits'] = filter['similar_outfits'].apply(len)\n",
    "\n",
    "# Now, the DataFrame 'filter' will have a new column 'length_of_similar_outfits' containing the lengths of the lists without square brackets.\n"
   ]
  },
  {
   "cell_type": "code",
   "execution_count": null,
   "metadata": {},
   "outputs": [],
   "source": [
    "filter.describe()"
   ]
  },
  {
   "cell_type": "code",
   "execution_count": null,
   "metadata": {},
   "outputs": [],
   "source": [
    "# 해당 outfit_id가 similar_outfits 리스트에 있는지 확인하는 함수\n",
    "def is_outfit_id_in_similar(row):\n",
    "    return row['outfit_id'] in row['similar_outfits']\n",
    "\n",
    "# 새로운 열 'is_in_similar'을 생성하고 확인 결과를 저장\n",
    "filter['is_in_similar'] = filter.apply(is_outfit_id_in_similar, axis=1)\n",
    "print(filter['is_in_similar'].sum())"
   ]
  }
 ],
 "metadata": {
  "kernelspec": {
   "display_name": "jun",
   "language": "python",
   "name": "python3"
  },
  "language_info": {
   "codemirror_mode": {
    "name": "ipython",
    "version": 3
   },
   "file_extension": ".py",
   "mimetype": "text/x-python",
   "name": "python",
   "nbconvert_exporter": "python",
   "pygments_lexer": "ipython3",
   "version": "3.9.0"
  },
  "orig_nbformat": 4
 },
 "nbformat": 4,
 "nbformat_minor": 2
}
