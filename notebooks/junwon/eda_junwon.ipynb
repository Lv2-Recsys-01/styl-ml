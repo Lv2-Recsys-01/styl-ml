{
 "cells": [
  {
   "cell_type": "code",
   "execution_count": null,
   "metadata": {},
   "outputs": [],
   "source": [
    "import os \n",
    "import pandas as pd\n",
    "import numpy as np"
   ]
  },
  {
   "cell_type": "code",
   "execution_count": null,
   "metadata": {},
   "outputs": [],
   "source": [
    "data_path = '../data/2023-07-19'\n",
    "likes_path = os.path.join(data_path, '_like__202307201554.csv')\n",
    "outfit_path = os.path.join(data_path, 'outfit_202307201554.csv')\n",
    "\n",
    "likes = pd.read_csv(likes_path)\n",
    "session = pd.read_csv('../data/_session__202307201554.csv')\n",
    "outfit = pd.read_csv(outfit_path)\n",
    "similar = pd.read_csv('../data/_similar__202307201554.csv')\n",
    "user =pd.read_csv('../data/_user__202307201554.csv')"
   ]
  },
  {
   "cell_type": "markdown",
   "metadata": {},
   "source": [
    "# Data Base: postgres\n",
    "- likes<br>\n",
    "좋아요 클릭\n",
    "- similar<br>\n",
    "유사한 아이템 목록\n",
    "- user<br>\n",
    "회원 정보\n",
    "- outfit<br>\n",
    "옷 메타 정보"
   ]
  },
  {
   "cell_type": "code",
   "execution_count": null,
   "metadata": {},
   "outputs": [],
   "source": [
    "likes.head(5)"
   ]
  },
  {
   "cell_type": "code",
   "execution_count": null,
   "metadata": {},
   "outputs": [],
   "source": [
    "likes['session_id'].nunique()"
   ]
  },
  {
   "cell_type": "markdown",
   "metadata": {},
   "source": [
    "## Side Information"
   ]
  },
  {
   "cell_type": "code",
   "execution_count": null,
   "metadata": {},
   "outputs": [],
   "source": [
    "outfit.head(2)"
   ]
  },
  {
   "cell_type": "code",
   "execution_count": null,
   "metadata": {},
   "outputs": [],
   "source": [
    "#columns = ['outfit_id', 'img_url', 'gender', 'age', 'origin_url', 'reporter', 'tags', 'brands', 'region', 'occupation', 'style', 'date']\n",
    "\n",
    "selected_columns = ['outfit_id', 'gender', 'age', 'tags', 'brands', 'style', 'date']\n",
    "selected_outfit = outfit[selected_columns]\n",
    "selected_outfit.rename(columns={'date': 'outfit_date'}, inplace=True)"
   ]
  },
  {
   "cell_type": "code",
   "execution_count": null,
   "metadata": {},
   "outputs": [],
   "source": [
    "selected_outfit['tags'] = selected_outfit['tags'].apply(lambda x: [tag.strip('\"') for tag in x.strip('{}').split(',')])\n",
    "selected_outfit['brands'] = selected_outfit['brands'].fillna('').apply(lambda x: [brand.strip('\"') for brand in x.strip('{}').split(',')])"
   ]
  },
  {
   "cell_type": "code",
   "execution_count": null,
   "metadata": {},
   "outputs": [],
   "source": [
    "selected_outfit['outfit_date'] = pd.to_datetime(selected_outfit['outfit_date']).dt.date"
   ]
  },
  {
   "cell_type": "code",
   "execution_count": null,
   "metadata": {},
   "outputs": [],
   "source": [
    "selected_outfit"
   ]
  },
  {
   "cell_type": "code",
   "execution_count": null,
   "metadata": {},
   "outputs": [],
   "source": [
    "# 'tags' 열에서 '봄'이라는 값을 포함하는 행들만 뽑아내기\n",
    "spring_outfit = selected_outfit[selected_outfit['tags'].apply(lambda x: '봄' in x)]\n",
    "summer_outfit = selected_outfit[selected_outfit['tags'].apply(lambda x: '여름' in x)]\n",
    "fall_outfit = selected_outfit[selected_outfit['tags'].apply(lambda x: '가을' in x)]\n",
    "winter_outfit = selected_outfit[selected_outfit['tags'].apply(lambda x: '겨울' in x)]"
   ]
  },
  {
   "cell_type": "code",
   "execution_count": null,
   "metadata": {},
   "outputs": [],
   "source": [
    "summer_outfit"
   ]
  },
  {
   "cell_type": "code",
   "execution_count": null,
   "metadata": {},
   "outputs": [],
   "source": [
    "fall_outfit"
   ]
  },
  {
   "cell_type": "code",
   "execution_count": null,
   "metadata": {},
   "outputs": [],
   "source": [
    "selected_outfit['brands']"
   ]
  },
  {
   "cell_type": "code",
   "execution_count": null,
   "metadata": {},
   "outputs": [],
   "source": [
    "selected_outfit"
   ]
  },
  {
   "cell_type": "markdown",
   "metadata": {},
   "source": [
    "# 클릭\n"
   ]
  },
  {
   "cell_type": "code",
   "execution_count": null,
   "metadata": {},
   "outputs": [],
   "source": [
    "import os\n",
    "\n",
    "def txt_to_csv(txt_file_path, csv_file_path):\n",
    "    with open(txt_file_path, 'r') as txt_file:\n",
    "        with open(csv_file_path, 'w') as csv_file:\n",
    "            for line in txt_file:\n",
    "                csv_file.write(line.replace('\\n', '') + '\\n')\n",
    "\n",
    "def process_files(data_path, file_names):\n",
    "    for file_name in file_names:\n",
    "        input_txt_path = os.path.join(data_path, f\"{file_name}.txt\")\n",
    "        output_csv_path = os.path.join(data_path, f\"{file_name}.csv\")\n",
    "        txt_to_csv(input_txt_path, output_csv_path)\n",
    "\n",
    "# 데이터 폴더 경로 설정\n",
    "data_path = \"/opt/ml/input/styl-ml/data/2023-07-19\"\n",
    "\n",
    "# 처리할 파일 이름 리스트 설정\n",
    "file_names = [\"click_image_log\", \"click_share_musinsa_log\", \"view_image_log\"]\n",
    "\n",
    "process_files(data_path, file_names)"
   ]
  },
  {
   "cell_type": "code",
   "execution_count": null,
   "metadata": {},
   "outputs": [],
   "source": [
    "click_image_path = os.path.join(data_path, 'click_image_log.csv')"
   ]
  },
  {
   "cell_type": "code",
   "execution_count": null,
   "metadata": {},
   "outputs": [],
   "source": [
    "click_image = pd.read_csv(click_image_path, sep=',')"
   ]
  },
  {
   "cell_type": "code",
   "execution_count": null,
   "metadata": {},
   "outputs": [],
   "source": [
    "click_image"
   ]
  },
  {
   "cell_type": "code",
   "execution_count": null,
   "metadata": {},
   "outputs": [],
   "source": [
    "click_image['session_id'].nunique()"
   ]
  }
 ],
 "metadata": {
  "kernelspec": {
   "display_name": "Python 3",
   "language": "python",
   "name": "python3"
  },
  "language_info": {
   "codemirror_mode": {
    "name": "ipython",
    "version": 3
   },
   "file_extension": ".py",
   "mimetype": "text/x-python",
   "name": "python",
   "nbconvert_exporter": "python",
   "pygments_lexer": "ipython3",
   "version": "3.9.0"
  },
  "orig_nbformat": 4
 },
 "nbformat": 4,
 "nbformat_minor": 2
}
