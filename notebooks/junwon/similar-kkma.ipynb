{
 "cells": [
  {
   "cell_type": "code",
   "execution_count": null,
   "metadata": {},
   "outputs": [],
   "source": [
    "!pip install pandas"
   ]
  },
  {
   "cell_type": "code",
   "execution_count": null,
   "metadata": {},
   "outputs": [],
   "source": [
    "import pandas as pd"
   ]
  },
  {
   "cell_type": "code",
   "execution_count": null,
   "metadata": {},
   "outputs": [],
   "source": [
    "outfit_df = pd.read_csv('../../data/outfit.csv')"
   ]
  },
  {
   "cell_type": "code",
   "execution_count": null,
   "metadata": {},
   "outputs": [],
   "source": [
    "# Convert the outfit_id column into a list of tuples (outfit_id, reporter)\n",
    "outfit_id_list = [(outfit_id) for outfit_id in outfit_df['outfit_id']]\n",
    "outfit_reporter_list = [(reporter) for reporter in outfit_df['reporter']]\n",
    "print(outfit_id_list)\n",
    "print(outfit_reporter_list)\n"
   ]
  },
  {
   "cell_type": "markdown",
   "metadata": {},
   "source": []
  },
  {
   "cell_type": "code",
   "execution_count": null,
   "metadata": {},
   "outputs": [],
   "source": [
    "!pip install --upgrade jpype1"
   ]
  },
  {
   "cell_type": "code",
   "execution_count": null,
   "metadata": {},
   "outputs": [],
   "source": [
    "import jpype\n",
    "print(jpype.isJVMStarted()) #return False:not running or 0:running"
   ]
  },
  {
   "cell_type": "code",
   "execution_count": null,
   "metadata": {},
   "outputs": [],
   "source": [
    "!apt-get update\n",
    "\n",
    "!apt-get install g++ openjdk-8-jdk python-dev python3-dev -y\n",
    "\n",
    "!pip3 install JPype1-py3\n",
    "\n",
    "!pip3 install konlpy\n",
    "\n",
    "!JAVA_HOME=\"/usr/lib/jvm/java-8-openjdk-amd64\""
   ]
  },
  {
   "cell_type": "code",
   "execution_count": null,
   "metadata": {},
   "outputs": [],
   "source": [
    "!pip install scikit-learn"
   ]
  },
  {
   "cell_type": "code",
   "execution_count": null,
   "metadata": {},
   "outputs": [],
   "source": [
    "!pip install tqdm"
   ]
  },
  {
   "cell_type": "code",
   "execution_count": null,
   "metadata": {},
   "outputs": [],
   "source": [
    "from konlpy.tag import Kkma\n",
    "from sklearn.feature_extraction.text import TfidfVectorizer\n",
    "from sklearn.metrics.pairwise import cosine_similarity\n",
    "from tqdm import tqdm\n",
    "\n",
    "# 꼬꼬마 형태소 분석기 초기화\n",
    "kkma = Kkma()\n",
    "\n",
    "kkma_list=[]\n",
    "\n",
    "# 문장을 형태소 단위로 분리하는 함수\n",
    "def tokenize(text):\n",
    "    tokenized_text = ' '.join(kkma.morphs(text))\n",
    "    # print(f\"Original sentence: {text}\")\n",
    "    # print(f\"Tokenized sentence: {tokenized_text}\")\n",
    "    # print()\n",
    "    kkma_list.append(tokenized_text)\n",
    "    return tokenized_text\n",
    "\n",
    "# 문장을 형태소 단위로 분리하여 벡터화\n",
    "vectorizer = TfidfVectorizer(tokenizer=tokenize)\n",
    "tfidf_matrix = vectorizer.fit_transform(outfit_reporter_list)\n",
    "# print(tfidf_matrix)\n",
    "# 문장들 간의 유사도 계산\n",
    "similarities = cosine_similarity(tfidf_matrix)\n",
    "\n",
    "# 결과 출력 with tqdm\n",
    "num_sentences = len(outfit_reporter_list)\n",
    "with tqdm(total=num_sentences*(num_sentences-1)//2) as pbar:\n",
    "    for i in range(len(outfit_reporter_list)):\n",
    "        for j in range(i + 1, len(outfit_reporter_list)):\n",
    "            similarity = similarities[i][j]\n",
    "            # print(f\"문장 {i+1}과 문장 {j+1}의 유사도: {similarity}\")\n",
    "            pbar.update(1)\n",
    "            \n",
    "\n"
   ]
  },
  {
   "cell_type": "markdown",
   "metadata": {},
   "source": [
    "## 결과"
   ]
  },
  {
   "cell_type": "code",
   "execution_count": null,
   "metadata": {},
   "outputs": [],
   "source": [
    "for i in kkma_list:\n",
    "    for j in i:\n",
    "        print(j, end =\"\")\n",
    "    print()"
   ]
  },
  {
   "cell_type": "code",
   "execution_count": null,
   "metadata": {},
   "outputs": [],
   "source": [
    "import numpy as np\n",
    "\n",
    "# ... (previous code)\n",
    "\n",
    "# Replace outfit_number with the specific outfit number for which you want to find similar outfits\n",
    "outfit_number = 87450\n",
    "\n",
    "# Get the index of the outfit number in the outfit_id_list\n",
    "outfit_index = outfit_id_list.index(outfit_number)\n",
    "\n",
    "# Get the cosine similarity scores for the specified outfit\n",
    "outfit_similarity_scores = similarities[outfit_index]\n",
    "\n",
    "# Get the indices of the most similar outfits (excluding the same outfit)\n",
    "similar_outfit_indices = np.argsort(outfit_similarity_scores)[::-1][1:11]\n",
    "\n",
    "# Get the outfit numbers, outfit texts, and similarity scores for the top 10 most similar outfits\n",
    "similar_outfits_info = [(outfit_id_list[idx], outfit_reporter_list[idx], outfit_similarity_scores[idx]) for idx in similar_outfit_indices]\n",
    "\n",
    "print(f\"메인 코디 번호: {outfit_number}\")\n",
    "print(\"Reporter:\",outfit_reporter_list[outfit_index])\n",
    "print(\"\\nOutfit {outfit_number} is most similar to the following outfits:\")\n",
    "\n",
    "# Print similar outfits, their texts, and similarity scores\n",
    "for similar_outfit_number, similar_outfit_text, similarity_score in similar_outfits_info:\n",
    "    print(f\"유사한 코디 번호: {similar_outfit_number}\")\n",
    "    print(\"Reporter:\",similar_outfit_text)\n",
    "    print(f\"Similarity Score: {similarity_score}\\n\")"
   ]
  },
  {
   "cell_type": "code",
   "execution_count": null,
   "metadata": {},
   "outputs": [],
   "source": [
    "import numpy as np\n",
    "import csv\n",
    "\n",
    "# ... (previous code)\n",
    "\n",
    "# Initialize a list to store the data\n",
    "data = []\n",
    "\n",
    "# Iterate over all items\n",
    "for sentence_idx in range(len(outfit_reporter_list)):\n",
    "    # Get the similarities for the specified item\n",
    "    similarities_for_sentence = similarities[sentence_idx]\n",
    "\n",
    "    # Sort the similarities in descending order and get the indices of the sorted similarities\n",
    "    sorted_indices = np.argsort(similarities_for_sentence)[::-1]\n",
    "\n",
    "    # Get the top 10 most similar item indices (excluding the original item)\n",
    "    top_100_indices = sorted_indices[1:301]\n",
    "\n",
    "    # Get the outfit_id for the current item\n",
    "    outfit_id = outfit_id_list[sentence_idx]\n",
    "\n",
    "    # Get the outfit_id for the top 10 most similar items\n",
    "    similar_outfits = [int(outfit_id_list[idx]) for idx in top_100_indices]\n",
    "    # print(type(similar_outfits[0]))\n",
    "    # Append the data to the list\n",
    "    data.append([outfit_id, similar_outfits])\n",
    "    # data.append([outfit_id, \"{\" + ','.join(map(str, similar_outfits)) + \"}\"])\n",
    "\n",
    "# Save the data to a CSV file\n",
    "csv_filename = 'similarwithkkma.csv'\n",
    "with open(csv_filename, 'w', newline='') as csvfile:\n",
    "    csv_writer = csv.writer(csvfile)\n",
    "    csv_writer.writerow(['outfit_id', 'similar_outfits'])\n",
    "\n",
    "    # Write data rows to the CSV file\n",
    "    for row in data:\n",
    "        # Write the 'similar_outfits' list as a comma-separated string\n",
    "        row[1] = \",\".join(str(item) for item in row[1])\n",
    "        csv_writer.writerow(row)\n",
    "\n",
    "print(f\"Data saved to {csv_filename}.\")\n"
   ]
  },
  {
   "cell_type": "code",
   "execution_count": null,
   "metadata": {},
   "outputs": [],
   "source": [
    "# import webbrowser\n",
    "\n",
    "# outfit_ids = [87349,85964,84352,87326,85777,82985,78318,91079,87196,89012,86647]\n",
    "\n",
    "\n",
    "# base_url = 'https://stylesjourney.com/detail/'\n",
    "\n",
    "# for outfit_id in outfit_ids:\n",
    "#     url = base_url + str(outfit_id)\n",
    "#     webbrowser.open(url)\n"
   ]
  },
  {
   "cell_type": "code",
   "execution_count": null,
   "metadata": {},
   "outputs": [],
   "source": [
    "df = pd.read_csv('./similarwithkkma.csv')"
   ]
  },
  {
   "cell_type": "code",
   "execution_count": null,
   "metadata": {},
   "outputs": [],
   "source": [
    "df"
   ]
  },
  {
   "cell_type": "code",
   "execution_count": null,
   "metadata": {},
   "outputs": [],
   "source": [
    "# 'tags' 열의 텍스트에 따라 'season' 열을 생성하는 함수\n",
    "def map_tags_to_season(tags_text):\n",
    "    if '봄' in tags_text :\n",
    "        return 1\n",
    "    elif '여름' in tags_text:\n",
    "        return 2\n",
    "    elif '가을' in tags_text:\n",
    "        return 3\n",
    "    elif '겨울' in tags_text:\n",
    "        return 4\n",
    "    \n",
    "    else:\n",
    "        return None\n",
    "\n",
    "# 'tags' 열을 기반으로 'season' 열 생성\n",
    "outfit_df['season'] = outfit_df['tags'].apply(map_tags_to_season)"
   ]
  },
  {
   "cell_type": "code",
   "execution_count": null,
   "metadata": {},
   "outputs": [],
   "source": [
    "outfit_df.isna().sum()"
   ]
  },
  {
   "cell_type": "code",
   "execution_count": null,
   "metadata": {},
   "outputs": [],
   "source": [
    "outfit_ids_with_nan_season = outfit_df[outfit_df['season'].isnull()]['outfit_id'].tolist()\n",
    "outfit_ids_with_nan_season"
   ]
  },
  {
   "cell_type": "code",
   "execution_count": null,
   "metadata": {},
   "outputs": [],
   "source": [
    "outfit_df.loc[outfit_df['outfit_id']==86019, 'season'] = 3\n",
    "outfit_df.loc[outfit_df['outfit_id']==86018, 'season'] = 3\n",
    "outfit_df.loc[outfit_df['outfit_id']==91266, 'season'] = 1\n",
    "outfit_df.loc[outfit_df['outfit_id']==85922, 'season'] = 4"
   ]
  },
  {
   "cell_type": "code",
   "execution_count": null,
   "metadata": {},
   "outputs": [],
   "source": [
    "outfit_df.nunique()"
   ]
  },
  {
   "cell_type": "code",
   "execution_count": null,
   "metadata": {},
   "outputs": [],
   "source": [
    "import pandas as pd\n",
    "import csv\n",
    "\n",
    "# Initialize a list to store the data\n",
    "data = []\n",
    "# Your existing outfit_df and df data...\n",
    "outfit_id_list = df['outfit_id'].tolist()\n",
    "cnt=0\n",
    "for outfit_id in outfit_id_list:\n",
    "    main_gender, main_season = outfit_df.loc[outfit_df['outfit_id'] == outfit_id, ['gender', 'season']].values[0]\n",
    "    num =0\n",
    "    similar_list=[]\n",
    "    similar_outfits_str = df.loc[df['outfit_id'] == outfit_id, 'similar_outfits'].values[0]\n",
    "    similar_outfits_list = [int(item) for item in similar_outfits_str.split(',')]\n",
    "    for similar_id in similar_outfits_list:\n",
    "        similar_gender, similar_season = outfit_df.loc[outfit_df['outfit_id'] == similar_id, ['gender', 'season']].values[0]\n",
    "        if main_gender==similar_gender and main_season==similar_season and outfit_id != similar_id:\n",
    "            similar_list.append(similar_id)\n",
    "            num+=1\n",
    "            \n",
    "        if num==5:\n",
    "            cnt+=1\n",
    "            print(cnt)\n",
    "            break\n",
    "        \n",
    "    data.append([outfit_id, similar_list])\n",
    "    # data.append([outfit_id, \"{\" + ','.join(map(str, similar_outfits)) + \"}\"])\n",
    "\n",
    "# Save the data to a CSV file\n",
    "csv_filename = 'similar_kkma-filter.csv'\n",
    "with open(csv_filename, 'w', newline='') as csvfile:\n",
    "    csv_writer = csv.writer(csvfile)\n",
    "    csv_writer.writerow(['outfit_id', 'similar_outfits'])\n",
    "    csv_writer.writerows(data)\n",
    "\n",
    "print(f\"Data saved to {csv_filename}.\")\n"
   ]
  },
  {
   "cell_type": "code",
   "execution_count": null,
   "metadata": {},
   "outputs": [],
   "source": [
    "outfit_df['reporter']"
   ]
  },
  {
   "cell_type": "code",
   "execution_count": null,
   "metadata": {},
   "outputs": [],
   "source": [
    "filter = pd.read_csv('./similar_kkma-filter.csv')"
   ]
  },
  {
   "cell_type": "code",
   "execution_count": null,
   "metadata": {},
   "outputs": [],
   "source": [
    "filter"
   ]
  },
  {
   "cell_type": "code",
   "execution_count": null,
   "metadata": {},
   "outputs": [],
   "source": [
    "import pandas as pd\n",
    "\n",
    "# Assuming 'filter' is the DataFrame containing 'similar_outfits' column with comma-separated strings within square brackets\n",
    "\n",
    "# Convert comma-separated strings to lists of integers\n",
    "filter['similar_outfits'] = filter['similar_outfits'].apply(lambda x: [int(outfit_id) for outfit_id in x[1:-1].split(',')])\n",
    "\n",
    "# Calculate the length of the lists in 'similar_outfits' column and create a new column 'length_of_similar_outfits'\n",
    "filter['length_of_similar_outfits'] = filter['similar_outfits'].apply(len)\n",
    "\n",
    "# Now, the DataFrame 'filter' will have a new column 'length_of_similar_outfits' containing the lengths of the lists without square brackets.\n"
   ]
  },
  {
   "cell_type": "code",
   "execution_count": null,
   "metadata": {},
   "outputs": [],
   "source": [
    "filter.describe()"
   ]
  },
  {
   "cell_type": "code",
   "execution_count": null,
   "metadata": {},
   "outputs": [],
   "source": [
    "filter"
   ]
  },
  {
   "cell_type": "code",
   "execution_count": null,
   "metadata": {},
   "outputs": [],
   "source": [
    "# 해당 outfit_id가 similar_outfits 리스트에 있는지 확인하는 함수\n",
    "def is_outfit_id_in_similar(row):\n",
    "    return row['outfit_id'] in row['similar_outfits']\n",
    "\n",
    "# 새로운 열 'is_in_similar'을 생성하고 확인 결과를 저장\n",
    "filter['is_in_similar'] = filter.apply(is_outfit_id_in_similar, axis=1)"
   ]
  },
  {
   "cell_type": "code",
   "execution_count": null,
   "metadata": {},
   "outputs": [],
   "source": [
    "filter['is_in_similar'].sum()"
   ]
  },
  {
   "cell_type": "code",
   "execution_count": null,
   "metadata": {},
   "outputs": [],
   "source": [
    "filter['outfit_id']"
   ]
  },
  {
   "cell_type": "code",
   "execution_count": null,
   "metadata": {},
   "outputs": [],
   "source": []
  },
  {
   "cell_type": "code",
   "execution_count": null,
   "metadata": {},
   "outputs": [],
   "source": []
  }
 ],
 "metadata": {
  "kernelspec": {
   "display_name": "base",
   "language": "python",
   "name": "python3"
  },
  "language_info": {
   "codemirror_mode": {
    "name": "ipython",
    "version": 3
   },
   "file_extension": ".py",
   "mimetype": "text/x-python",
   "name": "python",
   "nbconvert_exporter": "python",
   "pygments_lexer": "ipython3",
   "version": "3.9.16"
  },
  "orig_nbformat": 4
 },
 "nbformat": 4,
 "nbformat_minor": 2
}
