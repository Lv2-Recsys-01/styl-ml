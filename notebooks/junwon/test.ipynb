{
 "cells": [
  {
   "cell_type": "code",
   "execution_count": 32,
   "metadata": {},
   "outputs": [
    {
     "name": "stdout",
     "output_type": "stream",
     "text": [
      "                              session_id  outfit_id  rating\n",
      "1   7708c8e7-4292-4ff9-99b1-27be20427e42      83800       1\n",
      "2   7708c8e7-4292-4ff9-99b1-27be20427e42      83791       1\n",
      "3   7708c8e7-4292-4ff9-99b1-27be20427e42      84029       1\n",
      "4   7708c8e7-4292-4ff9-99b1-27be20427e42      83706       1\n",
      "5   7708c8e7-4292-4ff9-99b1-27be20427e42      83988       1\n",
      "..                                   ...        ...     ...\n",
      "61  1c55ce42-2c94-44a3-a1b3-b037c87662ab      83999       1\n",
      "62  17cbce09-48b8-46ba-9f46-d48ceeda7e07      90905       1\n",
      "64  8995a6e7-a51c-463e-949e-add908c64d4b      86011       1\n",
      "66  da05e137-0516-4fa9-8297-a7335b504352      73342       1\n",
      "68  da05e137-0516-4fa9-8297-a7335b504352      81307       1\n",
      "\n",
      "[1699 rows x 3 columns]\n"
     ]
    }
   ],
   "source": [
    "#click, like, share -> implicit 1 추출\n",
    "#전체 데이터 session_id, outfit_id, rating 0 or 1\n",
    "import pandas as pd\n",
    "import numpy as np\n",
    "import datetime\n",
    "import re\n",
    "from collections import Counter\n",
    "def implicit_data(click:pd.DataFrame, like:pd.DataFrame, share: pd.DataFrame):\n",
    "    implicit_df = pd.concat([click, like, share])\n",
    "    implicit_df = implicit_df.drop_duplicates(subset=['session_id', 'outfit_id'], keep='last')\n",
    "    implicit_df['rating'] = 1\n",
    "    implicit_df = implicit_df.drop_duplicates(subset=['session_id', 'outfit_id'], keep='last')\n",
    "    print(implicit_df)\n",
    "    implicit_df.to_csv(\"../data/train-test/implicit_data.csv\", index=False)\n",
    "\n",
    "\n",
    "\n",
    "    #클릭\n",
    "click_0719 = pd.read_csv(\"../data/2023-07-19/click_image_log.txt\")\n",
    "click_0720 = pd.read_csv(\"../data/2023-07-20/click_image_log.txt\")\n",
    "click_0721 = pd.read_csv(\"../data/2023-07-21/click_image_log.txt\")\n",
    "click = pd.concat([click_0719, click_0720, click_0721], axis=0, ignore_index=True)\n",
    "click = click[['session_id', 'outfit_id']]\n",
    "#좋아요\n",
    "like = pd.read_csv(\"../data/like.csv\")\n",
    "like = like[like['is_deleted']==False]\n",
    "like = like[['session_id', 'outfit_id']]\n",
    "#공유, \n",
    "share_0719 = pd.read_csv(\"../data/2023-07-19/click_share_musinsa_log.txt\")\n",
    "share_0720 = pd.read_csv(\"../data/2023-07-20/click_share_musinsa_log.txt\")\n",
    "share = pd.concat([share_0719, share_0720], axis=0, ignore_index=True)\n",
    "share\n",
    "share = share[['session_id', 'outfit_id']]\n",
    "implicit_data(click, like, share)\n",
    "\n",
    "# rating"
   ]
  },
  {
   "cell_type": "code",
   "execution_count": 33,
   "metadata": {},
   "outputs": [
    {
     "name": "stdout",
     "output_type": "stream",
     "text": [
      "두 CSV 파일은 동일합니다.\n"
     ]
    }
   ],
   "source": [
    "import pandas as pd\n",
    "\n",
    "def compare_sorted_csv_files(file1, file2):\n",
    "    # 파일 내용을 데이터프레임으로 읽어옴\n",
    "    df1 = pd.read_csv(file1)\n",
    "    df2 = pd.read_csv(file2)\n",
    "\n",
    "    # 데이터프레임을 outfit_id를 기준으로 정렬\n",
    "    df1_sorted = df1.sort_values(by='outfit_id').reset_index(drop=True)\n",
    "    df2_sorted = df2.sort_values(by='outfit_id').reset_index(drop=True)\n",
    "\n",
    "    # 데이터프레임 비교하여 동일 여부 확인\n",
    "    are_equal = df1_sorted.equals(df2_sorted)\n",
    "\n",
    "    return are_equal\n",
    "\n",
    "if __name__ == \"__main__\":\n",
    "    file1 = \"../data/train-test/implicit_data.csv\"\n",
    "    file2 = \"../data/train-test/implicit_data2.csv\"\n",
    "\n",
    "    is_equal = compare_sorted_csv_files(file1, file2)\n",
    "    if is_equal:\n",
    "        print(\"두 CSV 파일은 동일합니다.\")\n",
    "    else:\n",
    "        print(\"두 CSV 파일은 동일하지 않습니다.\")\n"
   ]
  }
 ],
 "metadata": {
  "kernelspec": {
   "display_name": "jun",
   "language": "python",
   "name": "python3"
  },
  "language_info": {
   "codemirror_mode": {
    "name": "ipython",
    "version": 3
   },
   "file_extension": ".py",
   "mimetype": "text/x-python",
   "name": "python",
   "nbconvert_exporter": "python",
   "pygments_lexer": "ipython3",
   "version": "3.9.0"
  },
  "orig_nbformat": 4
 },
 "nbformat": 4,
 "nbformat_minor": 2
}
