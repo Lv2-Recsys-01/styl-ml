{
 "cells": [
  {
   "cell_type": "code",
   "execution_count": null,
   "metadata": {},
   "outputs": [],
   "source": [
    "import pandas as pd"
   ]
  },
  {
   "cell_type": "code",
   "execution_count": null,
   "metadata": {},
   "outputs": [],
   "source": [
    "kkma_df = pd.read_csv('../../data/similar/similar_kkma-filter.csv')\n",
    "gpt_df = pd.read_csv('../../data/similar/similar-gpt-filter.csv')"
   ]
  },
  {
   "cell_type": "code",
   "execution_count": null,
   "metadata": {},
   "outputs": [],
   "source": [
    "kkma_df['similar_outfits'] = kkma_df['similar_outfits'].apply(lambda x: [int(outfit_id) for outfit_id in x[1:-1].split(',') if outfit_id.strip()])\n",
    "gpt_df['similar_outfits'] = gpt_df['similar_outfits'].apply(lambda x: [int(outfit_id) for outfit_id in x[1:-1].split(',') if outfit_id.strip()])"
   ]
  },
  {
   "cell_type": "code",
   "execution_count": null,
   "metadata": {},
   "outputs": [],
   "source": [
    "# Convert the 'similar_outfits' column to lists for both DataFrames\n",
    "kkma_df['similar_outfits'] = kkma_df['similar_outfits'].apply(list)\n",
    "gpt_df['similar_outfits'] = gpt_df['similar_outfits'].apply(list)\n",
    "cnt=0\n",
    "data=[]\n",
    "# Remove the common items from 'similar_outfits' in gpt_df and store the result in a new column 'filtered_similar_outfits'\n",
    "for outfit_id in gpt_df['outfit_id']:\n",
    "    # print(outfit_id)\n",
    "    tmp_lst=[]    \n",
    "    for j in gpt_df.loc[gpt_df['outfit_id'] == outfit_id, 'similar_outfits'].iloc[0]:\n",
    "        # print(j, type(kkma_df.loc[kkma_df['outfit_id'] == outfit_id, 'similar_outfits'].iloc[0]))\n",
    "        # print(kkma_df.loc[kkma_df['outfit_id'] == outfit_id, 'similar_outfits'].iloc[0])\n",
    "        # print(j)\n",
    "        if j in kkma_df.loc[kkma_df['outfit_id'] == outfit_id, 'similar_outfits'].iloc[0]:\n",
    "            cnt+=1\n",
    "            continue\n",
    "        tmp_lst.append(j)\n",
    "    data.append(tmp_lst)\n",
    "\n",
    "gpt_df['filtered_similar_outfits'] = data\n",
    "        \n",
    "# Display the modified DataFrames\n",
    "print(kkma_df)\n",
    "print(gpt_df)\n",
    "print(cnt)"
   ]
  },
  {
   "cell_type": "code",
   "execution_count": null,
   "metadata": {},
   "outputs": [],
   "source": [
    "gpt_df['filtered_similar_outfits'] = gpt_df['filtered_similar_outfits'].apply(lambda x: x[:5])\n",
    "\n",
    "merged_df = pd.merge(kkma_df, gpt_df, on='outfit_id')\n",
    "print(merged_df)\n"
   ]
  },
  {
   "cell_type": "code",
   "execution_count": null,
   "metadata": {},
   "outputs": [],
   "source": [
    "merged_df = merged_df[['outfit_id','similar_outfits_x','filtered_similar_outfits']]"
   ]
  },
  {
   "cell_type": "code",
   "execution_count": null,
   "metadata": {},
   "outputs": [],
   "source": [
    "merged_df"
   ]
  },
  {
   "cell_type": "code",
   "execution_count": null,
   "metadata": {},
   "outputs": [],
   "source": [
    "merged_df.columns=[['outfit_id','reporter_kkma', 'tag_gpt']]"
   ]
  },
  {
   "cell_type": "code",
   "execution_count": null,
   "metadata": {},
   "outputs": [],
   "source": [
    "merged_df.to_csv('similar.csv', index=False)"
   ]
  },
  {
   "cell_type": "markdown",
   "metadata": {},
   "source": [
    "## 중복 제거 확인 테스트"
   ]
  },
  {
   "cell_type": "code",
   "execution_count": null,
   "metadata": {},
   "outputs": [],
   "source": [
    "merged_df"
   ]
  },
  {
   "cell_type": "code",
   "execution_count": null,
   "metadata": {},
   "outputs": [],
   "source": [
    "import webbrowser\n",
    "\n",
    "base_url = 'https://stylesjourney.com/detail/{}/'\n",
    "\n",
    "# List of changing parts for the URL\n",
    "# outfit_ids = [87435,87427, 87428, 87432, 87433, 87434, 88082, 79035, 82649, 79102, 79920]\n",
    "\n",
    "outfit_ids = [87435, 87427, 87426, 87428, 87432, 87433,87434, 88082, 79035, 82649, 79102]\n",
    "\n",
    "\n",
    "# Open each URL in the default web browser\n",
    "for outfit_id in outfit_ids:\n",
    "    url = base_url.format(outfit_id)\n",
    "    webbrowser.open(url)\n"
   ]
  }
 ],
 "metadata": {
  "kernelspec": {
   "display_name": "jun",
   "language": "python",
   "name": "python3"
  },
  "language_info": {
   "codemirror_mode": {
    "name": "ipython",
    "version": 3
   },
   "file_extension": ".py",
   "mimetype": "text/x-python",
   "name": "python",
   "nbconvert_exporter": "python",
   "pygments_lexer": "ipython3",
   "version": "3.9.0"
  },
  "orig_nbformat": 4
 },
 "nbformat": 4,
 "nbformat_minor": 2
}
