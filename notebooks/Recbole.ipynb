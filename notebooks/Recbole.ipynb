{
 "cells": [
  {
   "cell_type": "code",
   "execution_count": 1,
   "metadata": {},
   "outputs": [
    {
     "name": "stderr",
     "output_type": "stream",
     "text": [
      "/opt/conda/envs/real_recbole/lib/python3.8/site-packages/tqdm/auto.py:22: TqdmWarning: IProgress not found. Please update jupyter and ipywidgets. See https://ipywidgets.readthedocs.io/en/stable/user_install.html\n",
      "  from .autonotebook import tqdm as notebook_tqdm\n"
     ]
    }
   ],
   "source": [
    "import os \n",
    "import pandas as pd \n",
    "import recbole\n",
    "import torch \n",
    "\n",
    "from recbole.model.general_recommender.bpr import BPR\n",
    "from recbole.model.general_recommender.ease import EASE\n",
    "\n",
    "from recbole.config import Config\n",
    "from recbole.data import create_dataset, data_preparation, Interaction\n",
    "from recbole.utils import init_logger, get_trainer, get_model, init_seed, set_color\n",
    "from recbole.quick_start import load_data_and_model, run_recbole, objective_function\n",
    "from recbole.utils.case_study import full_sort_topk\n",
    "from recbole.trainer import HyperTuning\n",
    "\n",
    "\n",
    "from logging import getLogger\n"
   ]
  },
  {
   "cell_type": "code",
   "execution_count": 2,
   "metadata": {},
   "outputs": [],
   "source": [
    "ratings = pd.read_csv('../data/ratings.csv')"
   ]
  },
  {
   "cell_type": "code",
   "execution_count": 3,
   "metadata": {},
   "outputs": [
    {
     "data": {
      "text/html": [
       "<div>\n",
       "<style scoped>\n",
       "    .dataframe tbody tr th:only-of-type {\n",
       "        vertical-align: middle;\n",
       "    }\n",
       "\n",
       "    .dataframe tbody tr th {\n",
       "        vertical-align: top;\n",
       "    }\n",
       "\n",
       "    .dataframe thead th {\n",
       "        text-align: right;\n",
       "    }\n",
       "</style>\n",
       "<table border=\"1\" class=\"dataframe\">\n",
       "  <thead>\n",
       "    <tr style=\"text-align: right;\">\n",
       "      <th></th>\n",
       "      <th>session_id</th>\n",
       "      <th>user_id</th>\n",
       "      <th>outfit_id</th>\n",
       "      <th>timestamp</th>\n",
       "    </tr>\n",
       "  </thead>\n",
       "  <tbody>\n",
       "    <tr>\n",
       "      <th>0</th>\n",
       "      <td>7708c8e7-4292-4ff9-99b1-27be20427e42</td>\n",
       "      <td>1.0</td>\n",
       "      <td>83783</td>\n",
       "      <td>23-07-19 09:26:07</td>\n",
       "    </tr>\n",
       "    <tr>\n",
       "      <th>1</th>\n",
       "      <td>7708c8e7-4292-4ff9-99b1-27be20427e42</td>\n",
       "      <td>1.0</td>\n",
       "      <td>83800</td>\n",
       "      <td>23-07-19 09:26:10</td>\n",
       "    </tr>\n",
       "    <tr>\n",
       "      <th>2</th>\n",
       "      <td>7708c8e7-4292-4ff9-99b1-27be20427e42</td>\n",
       "      <td>1.0</td>\n",
       "      <td>83791</td>\n",
       "      <td>23-07-19 09:26:12</td>\n",
       "    </tr>\n",
       "    <tr>\n",
       "      <th>3</th>\n",
       "      <td>7708c8e7-4292-4ff9-99b1-27be20427e42</td>\n",
       "      <td>1.0</td>\n",
       "      <td>84029</td>\n",
       "      <td>23-07-19 09:26:16</td>\n",
       "    </tr>\n",
       "    <tr>\n",
       "      <th>4</th>\n",
       "      <td>7708c8e7-4292-4ff9-99b1-27be20427e42</td>\n",
       "      <td>1.0</td>\n",
       "      <td>83706</td>\n",
       "      <td>23-07-19 09:26:18</td>\n",
       "    </tr>\n",
       "    <tr>\n",
       "      <th>...</th>\n",
       "      <td>...</td>\n",
       "      <td>...</td>\n",
       "      <td>...</td>\n",
       "      <td>...</td>\n",
       "    </tr>\n",
       "    <tr>\n",
       "      <th>2246</th>\n",
       "      <td>22af75f5-cabe-46e8-90b3-08613327f389</td>\n",
       "      <td>NaN</td>\n",
       "      <td>83291</td>\n",
       "      <td>2023-07-21 09:18:48.784861</td>\n",
       "    </tr>\n",
       "    <tr>\n",
       "      <th>2247</th>\n",
       "      <td>22af75f5-cabe-46e8-90b3-08613327f389</td>\n",
       "      <td>NaN</td>\n",
       "      <td>91336</td>\n",
       "      <td>2023-07-21 09:19:34.289190</td>\n",
       "    </tr>\n",
       "    <tr>\n",
       "      <th>2248</th>\n",
       "      <td>22af75f5-cabe-46e8-90b3-08613327f389</td>\n",
       "      <td>NaN</td>\n",
       "      <td>91601</td>\n",
       "      <td>2023-07-21 09:20:03.409300</td>\n",
       "    </tr>\n",
       "    <tr>\n",
       "      <th>2249</th>\n",
       "      <td>22af75f5-cabe-46e8-90b3-08613327f389</td>\n",
       "      <td>NaN</td>\n",
       "      <td>90043</td>\n",
       "      <td>2023-07-21 09:20:13.284585</td>\n",
       "    </tr>\n",
       "    <tr>\n",
       "      <th>2250</th>\n",
       "      <td>a00800e9-d9c4-4c63-8e15-b8f461cb10e0</td>\n",
       "      <td>2.0</td>\n",
       "      <td>91027</td>\n",
       "      <td>2023-07-20 23:00:38.290942</td>\n",
       "    </tr>\n",
       "  </tbody>\n",
       "</table>\n",
       "<p>2251 rows × 4 columns</p>\n",
       "</div>"
      ],
      "text/plain": [
       "                                session_id  user_id  outfit_id  \\\n",
       "0     7708c8e7-4292-4ff9-99b1-27be20427e42      1.0      83783   \n",
       "1     7708c8e7-4292-4ff9-99b1-27be20427e42      1.0      83800   \n",
       "2     7708c8e7-4292-4ff9-99b1-27be20427e42      1.0      83791   \n",
       "3     7708c8e7-4292-4ff9-99b1-27be20427e42      1.0      84029   \n",
       "4     7708c8e7-4292-4ff9-99b1-27be20427e42      1.0      83706   \n",
       "...                                    ...      ...        ...   \n",
       "2246  22af75f5-cabe-46e8-90b3-08613327f389      NaN      83291   \n",
       "2247  22af75f5-cabe-46e8-90b3-08613327f389      NaN      91336   \n",
       "2248  22af75f5-cabe-46e8-90b3-08613327f389      NaN      91601   \n",
       "2249  22af75f5-cabe-46e8-90b3-08613327f389      NaN      90043   \n",
       "2250  a00800e9-d9c4-4c63-8e15-b8f461cb10e0      2.0      91027   \n",
       "\n",
       "                       timestamp  \n",
       "0              23-07-19 09:26:07  \n",
       "1              23-07-19 09:26:10  \n",
       "2              23-07-19 09:26:12  \n",
       "3              23-07-19 09:26:16  \n",
       "4              23-07-19 09:26:18  \n",
       "...                          ...  \n",
       "2246  2023-07-21 09:18:48.784861  \n",
       "2247  2023-07-21 09:19:34.289190  \n",
       "2248  2023-07-21 09:20:03.409300  \n",
       "2249  2023-07-21 09:20:13.284585  \n",
       "2250  2023-07-20 23:00:38.290942  \n",
       "\n",
       "[2251 rows x 4 columns]"
      ]
     },
     "execution_count": 3,
     "metadata": {},
     "output_type": "execute_result"
    }
   ],
   "source": [
    "ratings"
   ]
  },
  {
   "cell_type": "code",
   "execution_count": 4,
   "metadata": {},
   "outputs": [
    {
     "name": "stderr",
     "output_type": "stream",
     "text": [
      "/opt/conda/envs/real_recbole/lib/python3.8/site-packages/pandas/core/frame.py:5039: SettingWithCopyWarning: \n",
      "A value is trying to be set on a copy of a slice from a DataFrame\n",
      "\n",
      "See the caveats in the documentation: https://pandas.pydata.org/pandas-docs/stable/user_guide/indexing.html#returning-a-view-versus-a-copy\n",
      "  return super().rename(\n"
     ]
    }
   ],
   "source": [
    "train = ratings[['session_id', 'outfit_id','timestamp']]\n",
    "train.rename(columns={'session_id':'user', 'outfit_id':'item', 'timestamp':'Time'}, inplace=True)"
   ]
  },
  {
   "cell_type": "code",
   "execution_count": 5,
   "metadata": {},
   "outputs": [],
   "source": [
    "user2idx = {v:k for k,v in enumerate(sorted(set(train.user)))}\n",
    "item2idx = {v:k for k,v in enumerate(sorted(set(train.item)))}\n",
    "uidx2user = {k:v for k,v in enumerate(sorted(set(train.user)))}\n",
    "iidx2item = {k:v for k,v in enumerate(sorted(set(train.item)))}"
   ]
  },
  {
   "cell_type": "code",
   "execution_count": 6,
   "metadata": {},
   "outputs": [
    {
     "name": "stderr",
     "output_type": "stream",
     "text": [
      "/opt/conda/envs/real_recbole/lib/python3.8/site-packages/pandas/core/generic.py:5516: SettingWithCopyWarning: \n",
      "A value is trying to be set on a copy of a slice from a DataFrame.\n",
      "Try using .loc[row_indexer,col_indexer] = value instead\n",
      "\n",
      "See the caveats in the documentation: https://pandas.pydata.org/pandas-docs/stable/user_guide/indexing.html#returning-a-view-versus-a-copy\n",
      "  self[name] = value\n"
     ]
    }
   ],
   "source": [
    "train.user = train.user.map(user2idx)\n",
    "train.item = train.item.map(item2idx)"
   ]
  },
  {
   "cell_type": "code",
   "execution_count": 7,
   "metadata": {},
   "outputs": [],
   "source": [
    "train.Time = pd.to_datetime(train.Time)\n",
    "train.Time = train.Time.view('int64')"
   ]
  },
  {
   "cell_type": "code",
   "execution_count": 8,
   "metadata": {},
   "outputs": [
    {
     "data": {
      "text/html": [
       "<div>\n",
       "<style scoped>\n",
       "    .dataframe tbody tr th:only-of-type {\n",
       "        vertical-align: middle;\n",
       "    }\n",
       "\n",
       "    .dataframe tbody tr th {\n",
       "        vertical-align: top;\n",
       "    }\n",
       "\n",
       "    .dataframe thead th {\n",
       "        text-align: right;\n",
       "    }\n",
       "</style>\n",
       "<table border=\"1\" class=\"dataframe\">\n",
       "  <thead>\n",
       "    <tr style=\"text-align: right;\">\n",
       "      <th></th>\n",
       "      <th>user_id:token</th>\n",
       "      <th>item_id:token</th>\n",
       "      <th>timestamp:float</th>\n",
       "    </tr>\n",
       "  </thead>\n",
       "  <tbody>\n",
       "    <tr>\n",
       "      <th>0</th>\n",
       "      <td>114</td>\n",
       "      <td>698</td>\n",
       "      <td>1563873967000000000</td>\n",
       "    </tr>\n",
       "    <tr>\n",
       "      <th>1</th>\n",
       "      <td>114</td>\n",
       "      <td>709</td>\n",
       "      <td>1563873970000000000</td>\n",
       "    </tr>\n",
       "  </tbody>\n",
       "</table>\n",
       "</div>"
      ],
      "text/plain": [
       "   user_id:token  item_id:token      timestamp:float\n",
       "0            114            698  1563873967000000000\n",
       "1            114            709  1563873970000000000"
      ]
     },
     "execution_count": 8,
     "metadata": {},
     "output_type": "execute_result"
    }
   ],
   "source": [
    "train.columns=['user_id:token','item_id:token','timestamp:float']\n",
    "train[:2]"
   ]
  },
  {
   "cell_type": "code",
   "execution_count": 9,
   "metadata": {},
   "outputs": [],
   "source": [
    "outpath = f\"dataset/recbole_train\"\n",
    "os.makedirs(outpath, exist_ok=True)\n",
    "# sub_train=train.groupby(\"user\").sample(n=10, random_state=SEED)\n",
    "# sub_train.shape\n",
    "train.to_csv(os.path.join(outpath,\"recbole_train.inter\"),sep='\\t',index=False)\n"
   ]
  },
  {
   "cell_type": "code",
   "execution_count": 10,
   "metadata": {},
   "outputs": [],
   "source": [
    "yaml_data = \"\"\"\n",
    "USER_ID_FIELD: user_id\n",
    "ITEM_ID_FIELD: item_id\n",
    "TIME_FIELD: timestamp\n",
    "\n",
    "load_col:\n",
    "    inter: [user_id, item_id, timestamp]\n",
    "\"\"\"\n",
    "\n",
    "with open(\"bpr.yaml\",\"w\") as f:\n",
    "    f.write(yaml_data)"
   ]
  },
  {
   "cell_type": "code",
   "execution_count": 11,
   "metadata": {},
   "outputs": [
    {
     "data": {
      "text/plain": [
       "229"
      ]
     },
     "execution_count": 11,
     "metadata": {},
     "output_type": "execute_result"
    }
   ],
   "source": [
    "train['user_id:token'].nunique() "
   ]
  },
  {
   "cell_type": "code",
   "execution_count": 12,
   "metadata": {},
   "outputs": [
    {
     "data": {
      "text/plain": [
       "1485"
      ]
     },
     "execution_count": 12,
     "metadata": {},
     "output_type": "execute_result"
    }
   ],
   "source": [
    "train['item_id:token'].nunique()"
   ]
  },
  {
   "cell_type": "code",
   "execution_count": 13,
   "metadata": {},
   "outputs": [
    {
     "data": {
      "text/plain": [
       "340065"
      ]
     },
     "execution_count": 13,
     "metadata": {},
     "output_type": "execute_result"
    }
   ],
   "source": [
    "229 * 1485"
   ]
  },
  {
   "cell_type": "code",
   "execution_count": 14,
   "metadata": {},
   "outputs": [
    {
     "data": {
      "text/plain": [
       "0.6619322776528017"
      ]
     },
     "execution_count": 14,
     "metadata": {},
     "output_type": "execute_result"
    }
   ],
   "source": [
    "2251 / 340065 * 100"
   ]
  },
  {
   "cell_type": "code",
   "execution_count": 15,
   "metadata": {},
   "outputs": [],
   "source": [
    "model_name = 'bpr' \n",
    "parameter_dict = {'embedding_size' : 8}\n",
    "config = Config(model=model_name.upper(), dataset='recbole_train', config_file_list=['bpr.yaml'], config_dict = parameter_dict)"
   ]
  },
  {
   "cell_type": "code",
   "execution_count": 16,
   "metadata": {},
   "outputs": [],
   "source": [
    "config['epochs'] = 100 \n",
    "config['show_progress'] = False\n",
    "config['device'] = torch.device('cuda' if torch.cuda.is_available() else 'cpu')\n",
    "config['train_batch_size'] = 128 \n",
    "config['train_neg_sample_args'] = {'distribution': 'uniform', 'sample_num': 5, 'alpha': 1.0, 'dynamic': False, 'candidate_num': 0}\n",
    "config['eval_args'] = {'group_by':'user','order': 'TO','split': {'LS' : 'valid_and_test'},'mode': 'full'}"
   ]
  },
  {
   "cell_type": "code",
   "execution_count": 17,
   "metadata": {},
   "outputs": [
    {
     "name": "stderr",
     "output_type": "stream",
     "text": [
      "21 Jul 04:37    INFO  \n",
      "General Hyper Parameters:\n",
      "gpu_id = 0\n",
      "use_gpu = True\n",
      "seed = 2020\n",
      "state = INFO\n",
      "reproducibility = True\n",
      "data_path = dataset/recbole_train\n",
      "checkpoint_dir = saved\n",
      "show_progress = False\n",
      "save_dataset = False\n",
      "dataset_save_path = None\n",
      "save_dataloaders = False\n",
      "dataloaders_save_path = None\n",
      "log_wandb = False\n",
      "\n",
      "Training Hyper Parameters:\n",
      "epochs = 100\n",
      "train_batch_size = 128\n",
      "learner = adam\n",
      "learning_rate = 0.001\n",
      "train_neg_sample_args = {'distribution': 'uniform', 'sample_num': 5, 'alpha': 1.0, 'dynamic': False, 'candidate_num': 0}\n",
      "eval_step = 1\n",
      "stopping_step = 10\n",
      "clip_grad_norm = None\n",
      "weight_decay = 0.0\n",
      "loss_decimal_place = 4\n",
      "\n",
      "Evaluation Hyper Parameters:\n",
      "eval_args = {'group_by': 'user', 'order': 'TO', 'split': {'LS': 'valid_and_test'}, 'mode': 'full'}\n",
      "repeatable = False\n",
      "metrics = ['Recall', 'MRR', 'NDCG', 'Hit', 'Precision']\n",
      "topk = [10]\n",
      "valid_metric = MRR@10\n",
      "valid_metric_bigger = True\n",
      "eval_batch_size = 4096\n",
      "metric_decimal_place = 4\n",
      "\n",
      "Dataset Hyper Parameters:\n",
      "field_separator = \t\n",
      "seq_separator =  \n",
      "USER_ID_FIELD = user_id\n",
      "ITEM_ID_FIELD = item_id\n",
      "RATING_FIELD = rating\n",
      "TIME_FIELD = timestamp\n",
      "seq_len = None\n",
      "LABEL_FIELD = label\n",
      "threshold = None\n",
      "NEG_PREFIX = neg_\n",
      "load_col = {'inter': ['user_id', 'item_id', 'timestamp']}\n",
      "unload_col = None\n",
      "unused_col = None\n",
      "additional_feat_suffix = None\n",
      "rm_dup_inter = None\n",
      "val_interval = None\n",
      "filter_inter_by_user_or_item = True\n",
      "user_inter_num_interval = [0,inf)\n",
      "item_inter_num_interval = [0,inf)\n",
      "alias_of_user_id = None\n",
      "alias_of_item_id = None\n",
      "alias_of_entity_id = None\n",
      "alias_of_relation_id = None\n",
      "preload_weight = None\n",
      "normalize_field = None\n",
      "normalize_all = None\n",
      "ITEM_LIST_LENGTH_FIELD = item_length\n",
      "LIST_SUFFIX = _list\n",
      "MAX_ITEM_LIST_LENGTH = 50\n",
      "POSITION_FIELD = position_id\n",
      "HEAD_ENTITY_ID_FIELD = head_id\n",
      "TAIL_ENTITY_ID_FIELD = tail_id\n",
      "RELATION_ID_FIELD = relation_id\n",
      "ENTITY_ID_FIELD = entity_id\n",
      "benchmark_filename = None\n",
      "\n",
      "Other Hyper Parameters: \n",
      "worker = 0\n",
      "wandb_project = recbole\n",
      "shuffle = True\n",
      "require_pow = False\n",
      "enable_amp = False\n",
      "enable_scaler = False\n",
      "transform = None\n",
      "embedding_size = 8\n",
      "numerical_features = []\n",
      "discretization = None\n",
      "kg_reverse_r = False\n",
      "entity_kg_num_interval = [0,inf)\n",
      "relation_kg_num_interval = [0,inf)\n",
      "MODEL_TYPE = ModelType.GENERAL\n",
      "MODEL_INPUT_TYPE = InputType.PAIRWISE\n",
      "eval_type = EvaluatorType.RANKING\n",
      "single_spec = True\n",
      "local_rank = 0\n",
      "device = cuda\n",
      "eval_neg_sample_args = {'distribution': 'uniform', 'sample_num': 'none'}\n",
      "\n",
      "\n"
     ]
    }
   ],
   "source": [
    "logger = getLogger()\n",
    "init_seed(config['seed'], config['reproducibility'])\n",
    "init_logger(config)\n",
    "\n",
    "logger.info(config)"
   ]
  },
  {
   "cell_type": "code",
   "execution_count": 18,
   "metadata": {},
   "outputs": [
    {
     "name": "stderr",
     "output_type": "stream",
     "text": [
      "21 Jul 04:37    INFO  recbole_train\n",
      "The number of users: 230\n",
      "Average actions of users: 9.829694323144105\n",
      "The number of items: 1486\n",
      "Average actions of items: 1.5158249158249157\n",
      "The number of inters: 2251\n",
      "The sparsity of the dataset: 99.34138919772954%\n",
      "Remain Fields: ['user_id', 'item_id', 'timestamp']\n",
      "21 Jul 04:37    INFO  [Training]: train_batch_size = [128] train_neg_sample_args: [{'distribution': 'uniform', 'sample_num': 5, 'alpha': 1.0, 'dynamic': False, 'candidate_num': 0}]\n",
      "21 Jul 04:37    INFO  [Evaluation]: eval_batch_size = [4096] eval_args: [{'group_by': 'user', 'order': 'TO', 'split': {'LS': 'valid_and_test'}, 'mode': 'full'}]\n"
     ]
    }
   ],
   "source": [
    "# dataset filtering\n",
    "dataset = create_dataset(config)\n",
    "logger.info(dataset)\n",
    "\n",
    "# dataset splitting\n",
    "train_data, valid_data, test_data = data_preparation(config, dataset)"
   ]
  },
  {
   "cell_type": "code",
   "execution_count": 19,
   "metadata": {},
   "outputs": [
    {
     "name": "stderr",
     "output_type": "stream",
     "text": [
      "21 Jul 04:37    INFO  BPR(\n",
      "  (user_embedding): Embedding(230, 8)\n",
      "  (item_embedding): Embedding(1486, 8)\n",
      "  (loss): BPRLoss()\n",
      ")\n",
      "Trainable parameters: 13728\n"
     ]
    }
   ],
   "source": [
    "init_seed(config['seed'], config['reproducibility'])\n",
    "model = BPR(config, train_data.dataset).to(config['device'])\n",
    "logger.info(model)"
   ]
  },
  {
   "cell_type": "code",
   "execution_count": 20,
   "metadata": {},
   "outputs": [
    {
     "name": "stderr",
     "output_type": "stream",
     "text": [
      "21 Jul 04:37    INFO  epoch 0 training [time: 0.14s, train loss: 52.5917]\n",
      "21 Jul 04:37    INFO  epoch 0 evaluating [time: 0.77s, valid_score: 0.004700]\n",
      "21 Jul 04:37    INFO  valid result: \n",
      "recall@10 : 0.0173    mrr@10 : 0.0047    ndcg@10 : 0.0076    hit@10 : 0.0173    precision@10 : 0.0017\n",
      "21 Jul 04:37    INFO  Saving current: saved/BPR-Jul-21-2023_04-37-32.pth\n",
      "21 Jul 04:37    INFO  epoch 1 training [time: 0.13s, train loss: 52.1756]\n",
      "21 Jul 04:37    INFO  epoch 1 evaluating [time: 0.07s, valid_score: 0.011600]\n",
      "21 Jul 04:37    INFO  valid result: \n",
      "recall@10 : 0.0116    mrr@10 : 0.0116    ndcg@10 : 0.0116    hit@10 : 0.0116    precision@10 : 0.0012\n",
      "21 Jul 04:37    INFO  Saving current: saved/BPR-Jul-21-2023_04-37-32.pth\n",
      "21 Jul 04:37    INFO  epoch 2 training [time: 0.17s, train loss: 51.3589]\n",
      "21 Jul 04:37    INFO  epoch 2 evaluating [time: 0.07s, valid_score: 0.015100]\n",
      "21 Jul 04:37    INFO  valid result: \n",
      "recall@10 : 0.0231    mrr@10 : 0.0151    ndcg@10 : 0.0169    hit@10 : 0.0231    precision@10 : 0.0023\n",
      "21 Jul 04:37    INFO  Saving current: saved/BPR-Jul-21-2023_04-37-32.pth\n",
      "21 Jul 04:37    INFO  epoch 3 training [time: 0.14s, train loss: 50.1376]\n",
      "21 Jul 04:37    INFO  epoch 3 evaluating [time: 0.07s, valid_score: 0.019600]\n",
      "21 Jul 04:37    INFO  valid result: \n",
      "recall@10 : 0.0347    mrr@10 : 0.0196    ndcg@10 : 0.0229    hit@10 : 0.0347    precision@10 : 0.0035\n",
      "21 Jul 04:37    INFO  Saving current: saved/BPR-Jul-21-2023_04-37-32.pth\n",
      "21 Jul 04:37    INFO  epoch 4 training [time: 0.13s, train loss: 48.6649]\n",
      "21 Jul 04:37    INFO  epoch 4 evaluating [time: 0.07s, valid_score: 0.017800]\n",
      "21 Jul 04:37    INFO  valid result: \n",
      "recall@10 : 0.0405    mrr@10 : 0.0178    ndcg@10 : 0.023    hit@10 : 0.0405    precision@10 : 0.004\n",
      "21 Jul 04:37    INFO  epoch 5 training [time: 0.14s, train loss: 46.7904]\n",
      "21 Jul 04:37    INFO  epoch 5 evaluating [time: 0.07s, valid_score: 0.019200]\n",
      "21 Jul 04:37    INFO  valid result: \n",
      "recall@10 : 0.052    mrr@10 : 0.0192    ndcg@10 : 0.0267    hit@10 : 0.052    precision@10 : 0.0052\n",
      "21 Jul 04:37    INFO  epoch 6 training [time: 0.14s, train loss: 44.9641]\n",
      "21 Jul 04:37    INFO  epoch 6 evaluating [time: 0.07s, valid_score: 0.022400]\n",
      "21 Jul 04:37    INFO  valid result: \n",
      "recall@10 : 0.052    mrr@10 : 0.0224    ndcg@10 : 0.0295    hit@10 : 0.052    precision@10 : 0.0052\n",
      "21 Jul 04:37    INFO  Saving current: saved/BPR-Jul-21-2023_04-37-32.pth\n",
      "21 Jul 04:37    INFO  epoch 7 training [time: 0.13s, train loss: 43.0477]\n",
      "21 Jul 04:37    INFO  epoch 7 evaluating [time: 0.07s, valid_score: 0.024800]\n",
      "21 Jul 04:37    INFO  valid result: \n",
      "recall@10 : 0.0636    mrr@10 : 0.0248    ndcg@10 : 0.034    hit@10 : 0.0636    precision@10 : 0.0064\n",
      "21 Jul 04:37    INFO  Saving current: saved/BPR-Jul-21-2023_04-37-32.pth\n",
      "21 Jul 04:37    INFO  epoch 8 training [time: 0.13s, train loss: 41.0936]\n",
      "21 Jul 04:37    INFO  epoch 8 evaluating [time: 0.07s, valid_score: 0.024900]\n",
      "21 Jul 04:37    INFO  valid result: \n",
      "recall@10 : 0.0694    mrr@10 : 0.0249    ndcg@10 : 0.0353    hit@10 : 0.0694    precision@10 : 0.0069\n",
      "21 Jul 04:37    INFO  Saving current: saved/BPR-Jul-21-2023_04-37-32.pth\n",
      "21 Jul 04:37    INFO  epoch 9 training [time: 0.13s, train loss: 39.2372]\n",
      "21 Jul 04:37    INFO  epoch 9 evaluating [time: 0.07s, valid_score: 0.028400]\n",
      "21 Jul 04:37    INFO  valid result: \n",
      "recall@10 : 0.0867    mrr@10 : 0.0284    ndcg@10 : 0.0418    hit@10 : 0.0867    precision@10 : 0.0087\n",
      "21 Jul 04:37    INFO  Saving current: saved/BPR-Jul-21-2023_04-37-32.pth\n",
      "21 Jul 04:37    INFO  epoch 10 training [time: 0.13s, train loss: 37.5326]\n",
      "21 Jul 04:37    INFO  epoch 10 evaluating [time: 0.07s, valid_score: 0.030100]\n",
      "21 Jul 04:37    INFO  valid result: \n",
      "recall@10 : 0.104    mrr@10 : 0.0301    ndcg@10 : 0.0469    hit@10 : 0.104    precision@10 : 0.0104\n",
      "21 Jul 04:37    INFO  Saving current: saved/BPR-Jul-21-2023_04-37-32.pth\n",
      "21 Jul 04:37    INFO  epoch 11 training [time: 0.13s, train loss: 35.4443]\n",
      "21 Jul 04:37    INFO  epoch 11 evaluating [time: 0.07s, valid_score: 0.031300]\n",
      "21 Jul 04:37    INFO  valid result: \n",
      "recall@10 : 0.104    mrr@10 : 0.0313    ndcg@10 : 0.048    hit@10 : 0.104    precision@10 : 0.0104\n",
      "21 Jul 04:37    INFO  Saving current: saved/BPR-Jul-21-2023_04-37-32.pth\n",
      "21 Jul 04:37    INFO  epoch 12 training [time: 0.13s, train loss: 33.7476]\n",
      "21 Jul 04:37    INFO  epoch 12 evaluating [time: 0.07s, valid_score: 0.032700]\n",
      "21 Jul 04:37    INFO  valid result: \n",
      "recall@10 : 0.104    mrr@10 : 0.0327    ndcg@10 : 0.0491    hit@10 : 0.104    precision@10 : 0.0104\n",
      "21 Jul 04:37    INFO  Saving current: saved/BPR-Jul-21-2023_04-37-32.pth\n",
      "21 Jul 04:37    INFO  epoch 13 training [time: 0.13s, train loss: 32.1873]\n",
      "21 Jul 04:37    INFO  epoch 13 evaluating [time: 0.07s, valid_score: 0.036900]\n",
      "21 Jul 04:37    INFO  valid result: \n",
      "recall@10 : 0.104    mrr@10 : 0.0369    ndcg@10 : 0.0524    hit@10 : 0.104    precision@10 : 0.0104\n",
      "21 Jul 04:37    INFO  Saving current: saved/BPR-Jul-21-2023_04-37-32.pth\n",
      "21 Jul 04:37    INFO  epoch 14 training [time: 0.13s, train loss: 30.5993]\n",
      "21 Jul 04:37    INFO  epoch 14 evaluating [time: 0.07s, valid_score: 0.036400]\n",
      "21 Jul 04:37    INFO  valid result: \n",
      "recall@10 : 0.104    mrr@10 : 0.0364    ndcg@10 : 0.0519    hit@10 : 0.104    precision@10 : 0.0104\n",
      "21 Jul 04:37    INFO  epoch 15 training [time: 0.13s, train loss: 29.0267]\n",
      "21 Jul 04:37    INFO  epoch 15 evaluating [time: 0.07s, valid_score: 0.037200]\n",
      "21 Jul 04:37    INFO  valid result: \n",
      "recall@10 : 0.104    mrr@10 : 0.0372    ndcg@10 : 0.0525    hit@10 : 0.104    precision@10 : 0.0104\n",
      "21 Jul 04:37    INFO  Saving current: saved/BPR-Jul-21-2023_04-37-32.pth\n",
      "21 Jul 04:37    INFO  epoch 16 training [time: 0.14s, train loss: 27.4864]\n",
      "21 Jul 04:37    INFO  epoch 16 evaluating [time: 0.07s, valid_score: 0.037300]\n",
      "21 Jul 04:37    INFO  valid result: \n",
      "recall@10 : 0.104    mrr@10 : 0.0373    ndcg@10 : 0.0525    hit@10 : 0.104    precision@10 : 0.0104\n",
      "21 Jul 04:37    INFO  Saving current: saved/BPR-Jul-21-2023_04-37-32.pth\n",
      "21 Jul 04:37    INFO  epoch 17 training [time: 0.13s, train loss: 26.0222]\n",
      "21 Jul 04:37    INFO  epoch 17 evaluating [time: 0.07s, valid_score: 0.038300]\n",
      "21 Jul 04:37    INFO  valid result: \n",
      "recall@10 : 0.1098    mrr@10 : 0.0383    ndcg@10 : 0.0546    hit@10 : 0.1098    precision@10 : 0.011\n",
      "21 Jul 04:37    INFO  Saving current: saved/BPR-Jul-21-2023_04-37-32.pth\n",
      "21 Jul 04:37    INFO  epoch 18 training [time: 0.13s, train loss: 24.8582]\n",
      "21 Jul 04:37    INFO  epoch 18 evaluating [time: 0.07s, valid_score: 0.037300]\n",
      "21 Jul 04:37    INFO  valid result: \n",
      "recall@10 : 0.1156    mrr@10 : 0.0373    ndcg@10 : 0.0554    hit@10 : 0.1156    precision@10 : 0.0116\n",
      "21 Jul 04:37    INFO  epoch 19 training [time: 0.13s, train loss: 23.4272]\n",
      "21 Jul 04:37    INFO  epoch 19 evaluating [time: 0.07s, valid_score: 0.038000]\n",
      "21 Jul 04:37    INFO  valid result: \n",
      "recall@10 : 0.104    mrr@10 : 0.038    ndcg@10 : 0.0536    hit@10 : 0.104    precision@10 : 0.0104\n",
      "21 Jul 04:37    INFO  epoch 20 training [time: 0.13s, train loss: 22.2824]\n",
      "21 Jul 04:37    INFO  epoch 20 evaluating [time: 0.07s, valid_score: 0.042900]\n",
      "21 Jul 04:37    INFO  valid result: \n",
      "recall@10 : 0.1098    mrr@10 : 0.0429    ndcg@10 : 0.0586    hit@10 : 0.1098    precision@10 : 0.011\n",
      "21 Jul 04:37    INFO  Saving current: saved/BPR-Jul-21-2023_04-37-32.pth\n",
      "21 Jul 04:37    INFO  epoch 21 training [time: 0.13s, train loss: 21.2629]\n",
      "21 Jul 04:37    INFO  epoch 21 evaluating [time: 0.07s, valid_score: 0.046100]\n",
      "21 Jul 04:37    INFO  valid result: \n",
      "recall@10 : 0.1098    mrr@10 : 0.0461    ndcg@10 : 0.0611    hit@10 : 0.1098    precision@10 : 0.011\n",
      "21 Jul 04:37    INFO  Saving current: saved/BPR-Jul-21-2023_04-37-32.pth\n",
      "21 Jul 04:37    INFO  epoch 22 training [time: 0.13s, train loss: 19.9681]\n",
      "21 Jul 04:37    INFO  epoch 22 evaluating [time: 0.07s, valid_score: 0.049800]\n",
      "21 Jul 04:37    INFO  valid result: \n",
      "recall@10 : 0.1214    mrr@10 : 0.0498    ndcg@10 : 0.0666    hit@10 : 0.1214    precision@10 : 0.0121\n",
      "21 Jul 04:37    INFO  Saving current: saved/BPR-Jul-21-2023_04-37-32.pth\n",
      "21 Jul 04:37    INFO  epoch 23 training [time: 0.13s, train loss: 18.8686]\n",
      "21 Jul 04:37    INFO  epoch 23 evaluating [time: 0.07s, valid_score: 0.054200]\n",
      "21 Jul 04:37    INFO  valid result: \n",
      "recall@10 : 0.1272    mrr@10 : 0.0542    ndcg@10 : 0.0711    hit@10 : 0.1272    precision@10 : 0.0127\n",
      "21 Jul 04:37    INFO  Saving current: saved/BPR-Jul-21-2023_04-37-32.pth\n",
      "21 Jul 04:37    INFO  epoch 24 training [time: 0.13s, train loss: 17.9226]\n",
      "21 Jul 04:37    INFO  epoch 24 evaluating [time: 0.07s, valid_score: 0.053900]\n",
      "21 Jul 04:37    INFO  valid result: \n",
      "recall@10 : 0.1272    mrr@10 : 0.0539    ndcg@10 : 0.0713    hit@10 : 0.1272    precision@10 : 0.0127\n",
      "21 Jul 04:37    INFO  epoch 25 training [time: 0.13s, train loss: 17.0822]\n",
      "21 Jul 04:37    INFO  epoch 25 evaluating [time: 0.07s, valid_score: 0.057900]\n",
      "21 Jul 04:37    INFO  valid result: \n",
      "recall@10 : 0.1329    mrr@10 : 0.0579    ndcg@10 : 0.0754    hit@10 : 0.1329    precision@10 : 0.0133\n",
      "21 Jul 04:37    INFO  Saving current: saved/BPR-Jul-21-2023_04-37-32.pth\n",
      "21 Jul 04:37    INFO  epoch 26 training [time: 0.13s, train loss: 16.1533]\n",
      "21 Jul 04:37    INFO  epoch 26 evaluating [time: 0.07s, valid_score: 0.060300]\n",
      "21 Jul 04:37    INFO  valid result: \n",
      "recall@10 : 0.1329    mrr@10 : 0.0603    ndcg@10 : 0.0772    hit@10 : 0.1329    precision@10 : 0.0133\n",
      "21 Jul 04:37    INFO  Saving current: saved/BPR-Jul-21-2023_04-37-32.pth\n",
      "21 Jul 04:37    INFO  epoch 27 training [time: 0.13s, train loss: 15.2607]\n",
      "21 Jul 04:37    INFO  epoch 27 evaluating [time: 0.07s, valid_score: 0.063600]\n",
      "21 Jul 04:37    INFO  valid result: \n",
      "recall@10 : 0.1387    mrr@10 : 0.0636    ndcg@10 : 0.0812    hit@10 : 0.1387    precision@10 : 0.0139\n",
      "21 Jul 04:37    INFO  Saving current: saved/BPR-Jul-21-2023_04-37-32.pth\n",
      "21 Jul 04:37    INFO  epoch 28 training [time: 0.13s, train loss: 14.5753]\n",
      "21 Jul 04:37    INFO  epoch 28 evaluating [time: 0.07s, valid_score: 0.066000]\n",
      "21 Jul 04:37    INFO  valid result: \n",
      "recall@10 : 0.1387    mrr@10 : 0.066    ndcg@10 : 0.083    hit@10 : 0.1387    precision@10 : 0.0139\n",
      "21 Jul 04:37    INFO  Saving current: saved/BPR-Jul-21-2023_04-37-32.pth\n",
      "21 Jul 04:37    INFO  epoch 29 training [time: 0.13s, train loss: 14.0305]\n",
      "21 Jul 04:37    INFO  epoch 29 evaluating [time: 0.07s, valid_score: 0.064300]\n",
      "21 Jul 04:37    INFO  valid result: \n",
      "recall@10 : 0.1387    mrr@10 : 0.0643    ndcg@10 : 0.0819    hit@10 : 0.1387    precision@10 : 0.0139\n",
      "21 Jul 04:37    INFO  epoch 30 training [time: 0.13s, train loss: 13.1709]\n",
      "21 Jul 04:37    INFO  epoch 30 evaluating [time: 0.07s, valid_score: 0.064300]\n",
      "21 Jul 04:37    INFO  valid result: \n",
      "recall@10 : 0.1387    mrr@10 : 0.0643    ndcg@10 : 0.0819    hit@10 : 0.1387    precision@10 : 0.0139\n",
      "21 Jul 04:37    INFO  epoch 31 training [time: 0.13s, train loss: 12.6779]\n",
      "21 Jul 04:37    INFO  epoch 31 evaluating [time: 0.07s, valid_score: 0.070900]\n",
      "21 Jul 04:37    INFO  valid result: \n",
      "recall@10 : 0.1387    mrr@10 : 0.0709    ndcg@10 : 0.0869    hit@10 : 0.1387    precision@10 : 0.0139\n",
      "21 Jul 04:37    INFO  Saving current: saved/BPR-Jul-21-2023_04-37-32.pth\n",
      "21 Jul 04:37    INFO  epoch 32 training [time: 0.13s, train loss: 11.9928]\n",
      "21 Jul 04:37    INFO  epoch 32 evaluating [time: 0.07s, valid_score: 0.071700]\n",
      "21 Jul 04:37    INFO  valid result: \n",
      "recall@10 : 0.1387    mrr@10 : 0.0717    ndcg@10 : 0.0874    hit@10 : 0.1387    precision@10 : 0.0139\n",
      "21 Jul 04:37    INFO  Saving current: saved/BPR-Jul-21-2023_04-37-32.pth\n",
      "21 Jul 04:37    INFO  epoch 33 training [time: 0.13s, train loss: 11.3826]\n",
      "21 Jul 04:37    INFO  epoch 33 evaluating [time: 0.07s, valid_score: 0.071000]\n",
      "21 Jul 04:37    INFO  valid result: \n",
      "recall@10 : 0.1387    mrr@10 : 0.071    ndcg@10 : 0.0869    hit@10 : 0.1387    precision@10 : 0.0139\n",
      "21 Jul 04:37    INFO  epoch 34 training [time: 0.13s, train loss: 10.9764]\n",
      "21 Jul 04:37    INFO  epoch 34 evaluating [time: 0.07s, valid_score: 0.060100]\n",
      "21 Jul 04:37    INFO  valid result: \n",
      "recall@10 : 0.1387    mrr@10 : 0.0601    ndcg@10 : 0.0789    hit@10 : 0.1387    precision@10 : 0.0139\n",
      "21 Jul 04:37    INFO  epoch 35 training [time: 0.13s, train loss: 10.5063]\n",
      "21 Jul 04:37    INFO  epoch 35 evaluating [time: 0.07s, valid_score: 0.066600]\n",
      "21 Jul 04:37    INFO  valid result: \n",
      "recall@10 : 0.1387    mrr@10 : 0.0666    ndcg@10 : 0.0838    hit@10 : 0.1387    precision@10 : 0.0139\n",
      "21 Jul 04:37    INFO  epoch 36 training [time: 0.13s, train loss: 9.8879]\n",
      "21 Jul 04:37    INFO  epoch 36 evaluating [time: 0.07s, valid_score: 0.069600]\n",
      "21 Jul 04:37    INFO  valid result: \n",
      "recall@10 : 0.1445    mrr@10 : 0.0696    ndcg@10 : 0.0875    hit@10 : 0.1445    precision@10 : 0.0145\n",
      "21 Jul 04:37    INFO  epoch 37 training [time: 0.13s, train loss: 9.6090]\n",
      "21 Jul 04:37    INFO  epoch 37 evaluating [time: 0.07s, valid_score: 0.072700]\n",
      "21 Jul 04:37    INFO  valid result: \n",
      "recall@10 : 0.1445    mrr@10 : 0.0727    ndcg@10 : 0.0899    hit@10 : 0.1445    precision@10 : 0.0145\n",
      "21 Jul 04:37    INFO  Saving current: saved/BPR-Jul-21-2023_04-37-32.pth\n",
      "21 Jul 04:37    INFO  epoch 38 training [time: 0.14s, train loss: 9.0815]\n",
      "21 Jul 04:37    INFO  epoch 38 evaluating [time: 0.07s, valid_score: 0.072800]\n",
      "21 Jul 04:37    INFO  valid result: \n",
      "recall@10 : 0.1445    mrr@10 : 0.0728    ndcg@10 : 0.0899    hit@10 : 0.1445    precision@10 : 0.0145\n",
      "21 Jul 04:37    INFO  Saving current: saved/BPR-Jul-21-2023_04-37-32.pth\n",
      "21 Jul 04:37    INFO  epoch 39 training [time: 0.13s, train loss: 8.8273]\n",
      "21 Jul 04:37    INFO  epoch 39 evaluating [time: 0.07s, valid_score: 0.079600]\n",
      "21 Jul 04:37    INFO  valid result: \n",
      "recall@10 : 0.1503    mrr@10 : 0.0796    ndcg@10 : 0.0964    hit@10 : 0.1503    precision@10 : 0.015\n",
      "21 Jul 04:37    INFO  Saving current: saved/BPR-Jul-21-2023_04-37-32.pth\n",
      "21 Jul 04:37    INFO  epoch 40 training [time: 0.13s, train loss: 8.2385]\n",
      "21 Jul 04:37    INFO  epoch 40 evaluating [time: 0.07s, valid_score: 0.077700]\n",
      "21 Jul 04:37    INFO  valid result: \n",
      "recall@10 : 0.1503    mrr@10 : 0.0777    ndcg@10 : 0.0951    hit@10 : 0.1503    precision@10 : 0.015\n",
      "21 Jul 04:37    INFO  epoch 41 training [time: 0.13s, train loss: 8.1239]\n",
      "21 Jul 04:37    INFO  epoch 41 evaluating [time: 0.07s, valid_score: 0.078500]\n",
      "21 Jul 04:37    INFO  valid result: \n",
      "recall@10 : 0.1445    mrr@10 : 0.0785    ndcg@10 : 0.0945    hit@10 : 0.1445    precision@10 : 0.0145\n",
      "21 Jul 04:37    INFO  epoch 42 training [time: 0.13s, train loss: 7.6935]\n",
      "21 Jul 04:37    INFO  epoch 42 evaluating [time: 0.07s, valid_score: 0.079600]\n",
      "21 Jul 04:37    INFO  valid result: \n",
      "recall@10 : 0.1503    mrr@10 : 0.0796    ndcg@10 : 0.0965    hit@10 : 0.1503    precision@10 : 0.015\n",
      "21 Jul 04:37    INFO  Saving current: saved/BPR-Jul-21-2023_04-37-32.pth\n",
      "21 Jul 04:37    INFO  epoch 43 training [time: 0.13s, train loss: 7.3755]\n",
      "21 Jul 04:37    INFO  epoch 43 evaluating [time: 0.07s, valid_score: 0.079900]\n",
      "21 Jul 04:37    INFO  valid result: \n",
      "recall@10 : 0.1503    mrr@10 : 0.0799    ndcg@10 : 0.0968    hit@10 : 0.1503    precision@10 : 0.015\n",
      "21 Jul 04:37    INFO  Saving current: saved/BPR-Jul-21-2023_04-37-32.pth\n",
      "21 Jul 04:37    INFO  epoch 44 training [time: 0.13s, train loss: 6.9818]\n",
      "21 Jul 04:37    INFO  epoch 44 evaluating [time: 0.07s, valid_score: 0.085900]\n",
      "21 Jul 04:37    INFO  valid result: \n",
      "recall@10 : 0.1503    mrr@10 : 0.0859    ndcg@10 : 0.1013    hit@10 : 0.1503    precision@10 : 0.015\n",
      "21 Jul 04:37    INFO  Saving current: saved/BPR-Jul-21-2023_04-37-32.pth\n",
      "21 Jul 04:37    INFO  epoch 45 training [time: 0.13s, train loss: 6.6730]\n",
      "21 Jul 04:37    INFO  epoch 45 evaluating [time: 0.07s, valid_score: 0.086200]\n",
      "21 Jul 04:37    INFO  valid result: \n",
      "recall@10 : 0.1503    mrr@10 : 0.0862    ndcg@10 : 0.1016    hit@10 : 0.1503    precision@10 : 0.015\n",
      "21 Jul 04:37    INFO  Saving current: saved/BPR-Jul-21-2023_04-37-32.pth\n",
      "21 Jul 04:37    INFO  epoch 46 training [time: 0.15s, train loss: 6.6059]\n",
      "21 Jul 04:37    INFO  epoch 46 evaluating [time: 0.07s, valid_score: 0.084400]\n",
      "21 Jul 04:37    INFO  valid result: \n",
      "recall@10 : 0.1503    mrr@10 : 0.0844    ndcg@10 : 0.1004    hit@10 : 0.1503    precision@10 : 0.015\n",
      "21 Jul 04:37    INFO  epoch 47 training [time: 0.13s, train loss: 6.2176]\n",
      "21 Jul 04:37    INFO  epoch 47 evaluating [time: 0.07s, valid_score: 0.084800]\n",
      "21 Jul 04:37    INFO  valid result: \n",
      "recall@10 : 0.1503    mrr@10 : 0.0848    ndcg@10 : 0.1008    hit@10 : 0.1503    precision@10 : 0.015\n",
      "21 Jul 04:37    INFO  epoch 48 training [time: 0.13s, train loss: 6.1586]\n",
      "21 Jul 04:37    INFO  epoch 48 evaluating [time: 0.07s, valid_score: 0.092000]\n",
      "21 Jul 04:37    INFO  valid result: \n",
      "recall@10 : 0.1561    mrr@10 : 0.092    ndcg@10 : 0.1074    hit@10 : 0.1561    precision@10 : 0.0156\n",
      "21 Jul 04:37    INFO  Saving current: saved/BPR-Jul-21-2023_04-37-32.pth\n",
      "21 Jul 04:37    INFO  epoch 49 training [time: 0.13s, train loss: 5.9450]\n",
      "21 Jul 04:37    INFO  epoch 49 evaluating [time: 0.07s, valid_score: 0.090600]\n",
      "21 Jul 04:37    INFO  valid result: \n",
      "recall@10 : 0.1503    mrr@10 : 0.0906    ndcg@10 : 0.105    hit@10 : 0.1503    precision@10 : 0.015\n",
      "21 Jul 04:37    INFO  epoch 50 training [time: 0.13s, train loss: 5.6252]\n",
      "21 Jul 04:37    INFO  epoch 50 evaluating [time: 0.07s, valid_score: 0.092700]\n",
      "21 Jul 04:37    INFO  valid result: \n",
      "recall@10 : 0.1503    mrr@10 : 0.0927    ndcg@10 : 0.1069    hit@10 : 0.1503    precision@10 : 0.015\n",
      "21 Jul 04:37    INFO  Saving current: saved/BPR-Jul-21-2023_04-37-32.pth\n",
      "21 Jul 04:37    INFO  epoch 51 training [time: 0.19s, train loss: 5.3954]\n",
      "21 Jul 04:37    INFO  epoch 51 evaluating [time: 0.07s, valid_score: 0.092300]\n",
      "21 Jul 04:37    INFO  valid result: \n",
      "recall@10 : 0.1561    mrr@10 : 0.0923    ndcg@10 : 0.1076    hit@10 : 0.1561    precision@10 : 0.0156\n",
      "21 Jul 04:37    INFO  epoch 52 training [time: 0.13s, train loss: 5.1480]\n",
      "21 Jul 04:37    INFO  epoch 52 evaluating [time: 0.07s, valid_score: 0.095500]\n",
      "21 Jul 04:37    INFO  valid result: \n",
      "recall@10 : 0.1561    mrr@10 : 0.0955    ndcg@10 : 0.1103    hit@10 : 0.1561    precision@10 : 0.0156\n",
      "21 Jul 04:37    INFO  Saving current: saved/BPR-Jul-21-2023_04-37-32.pth\n",
      "21 Jul 04:37    INFO  epoch 53 training [time: 0.13s, train loss: 4.9989]\n",
      "21 Jul 04:37    INFO  epoch 53 evaluating [time: 0.07s, valid_score: 0.094900]\n",
      "21 Jul 04:37    INFO  valid result: \n",
      "recall@10 : 0.1503    mrr@10 : 0.0949    ndcg@10 : 0.1087    hit@10 : 0.1503    precision@10 : 0.015\n",
      "21 Jul 04:37    INFO  epoch 54 training [time: 0.14s, train loss: 4.7957]\n",
      "21 Jul 04:37    INFO  epoch 54 evaluating [time: 0.07s, valid_score: 0.096800]\n",
      "21 Jul 04:37    INFO  valid result: \n",
      "recall@10 : 0.1503    mrr@10 : 0.0968    ndcg@10 : 0.11    hit@10 : 0.1503    precision@10 : 0.015\n",
      "21 Jul 04:37    INFO  Saving current: saved/BPR-Jul-21-2023_04-37-32.pth\n",
      "21 Jul 04:37    INFO  epoch 55 training [time: 0.13s, train loss: 4.5701]\n",
      "21 Jul 04:37    INFO  epoch 55 evaluating [time: 0.07s, valid_score: 0.100800]\n",
      "21 Jul 04:37    INFO  valid result: \n",
      "recall@10 : 0.1561    mrr@10 : 0.1008    ndcg@10 : 0.1142    hit@10 : 0.1561    precision@10 : 0.0156\n",
      "21 Jul 04:37    INFO  Saving current: saved/BPR-Jul-21-2023_04-37-32.pth\n",
      "21 Jul 04:37    INFO  epoch 56 training [time: 0.13s, train loss: 4.4812]\n",
      "21 Jul 04:37    INFO  epoch 56 evaluating [time: 0.07s, valid_score: 0.105500]\n",
      "21 Jul 04:37    INFO  valid result: \n",
      "recall@10 : 0.1561    mrr@10 : 0.1055    ndcg@10 : 0.1178    hit@10 : 0.1561    precision@10 : 0.0156\n",
      "21 Jul 04:37    INFO  Saving current: saved/BPR-Jul-21-2023_04-37-32.pth\n",
      "21 Jul 04:37    INFO  epoch 57 training [time: 0.13s, train loss: 4.3776]\n",
      "21 Jul 04:37    INFO  epoch 57 evaluating [time: 0.07s, valid_score: 0.104100]\n",
      "21 Jul 04:37    INFO  valid result: \n",
      "recall@10 : 0.1618    mrr@10 : 0.1041    ndcg@10 : 0.1181    hit@10 : 0.1618    precision@10 : 0.0162\n",
      "21 Jul 04:37    INFO  epoch 58 training [time: 0.13s, train loss: 4.0905]\n",
      "21 Jul 04:37    INFO  epoch 58 evaluating [time: 0.07s, valid_score: 0.103200]\n",
      "21 Jul 04:37    INFO  valid result: \n",
      "recall@10 : 0.1618    mrr@10 : 0.1032    ndcg@10 : 0.1175    hit@10 : 0.1618    precision@10 : 0.0162\n",
      "21 Jul 04:37    INFO  epoch 59 training [time: 0.13s, train loss: 4.0090]\n",
      "21 Jul 04:37    INFO  epoch 59 evaluating [time: 0.07s, valid_score: 0.102600]\n",
      "21 Jul 04:37    INFO  valid result: \n",
      "recall@10 : 0.1618    mrr@10 : 0.1026    ndcg@10 : 0.117    hit@10 : 0.1618    precision@10 : 0.0162\n",
      "21 Jul 04:37    INFO  epoch 60 training [time: 0.13s, train loss: 3.9369]\n",
      "21 Jul 04:37    INFO  epoch 60 evaluating [time: 0.07s, valid_score: 0.103500]\n",
      "21 Jul 04:37    INFO  valid result: \n",
      "recall@10 : 0.1676    mrr@10 : 0.1035    ndcg@10 : 0.1189    hit@10 : 0.1676    precision@10 : 0.0168\n",
      "21 Jul 04:37    INFO  epoch 61 training [time: 0.13s, train loss: 3.7809]\n",
      "21 Jul 04:37    INFO  epoch 61 evaluating [time: 0.07s, valid_score: 0.101300]\n",
      "21 Jul 04:37    INFO  valid result: \n",
      "recall@10 : 0.1734    mrr@10 : 0.1013    ndcg@10 : 0.1185    hit@10 : 0.1734    precision@10 : 0.0173\n",
      "21 Jul 04:37    INFO  epoch 62 training [time: 0.13s, train loss: 3.6032]\n",
      "21 Jul 04:37    INFO  epoch 62 evaluating [time: 0.07s, valid_score: 0.101500]\n",
      "21 Jul 04:37    INFO  valid result: \n",
      "recall@10 : 0.1676    mrr@10 : 0.1015    ndcg@10 : 0.1176    hit@10 : 0.1676    precision@10 : 0.0168\n",
      "21 Jul 04:37    INFO  epoch 63 training [time: 0.13s, train loss: 3.6390]\n",
      "21 Jul 04:37    INFO  epoch 63 evaluating [time: 0.07s, valid_score: 0.102200]\n",
      "21 Jul 04:37    INFO  valid result: \n",
      "recall@10 : 0.1734    mrr@10 : 0.1022    ndcg@10 : 0.1194    hit@10 : 0.1734    precision@10 : 0.0173\n",
      "21 Jul 04:37    INFO  epoch 64 training [time: 0.13s, train loss: 3.3381]\n",
      "21 Jul 04:37    INFO  epoch 64 evaluating [time: 0.07s, valid_score: 0.101300]\n",
      "21 Jul 04:37    INFO  valid result: \n",
      "recall@10 : 0.1734    mrr@10 : 0.1013    ndcg@10 : 0.1189    hit@10 : 0.1734    precision@10 : 0.0173\n",
      "21 Jul 04:37    INFO  epoch 65 training [time: 0.13s, train loss: 3.2705]\n",
      "21 Jul 04:37    INFO  epoch 65 evaluating [time: 0.07s, valid_score: 0.100400]\n",
      "21 Jul 04:37    INFO  valid result: \n",
      "recall@10 : 0.1734    mrr@10 : 0.1004    ndcg@10 : 0.1182    hit@10 : 0.1734    precision@10 : 0.0173\n",
      "21 Jul 04:37    INFO  epoch 66 training [time: 0.13s, train loss: 3.1961]\n",
      "21 Jul 04:37    INFO  epoch 66 evaluating [time: 0.07s, valid_score: 0.101100]\n",
      "21 Jul 04:37    INFO  valid result: \n",
      "recall@10 : 0.1792    mrr@10 : 0.1011    ndcg@10 : 0.12    hit@10 : 0.1792    precision@10 : 0.0179\n",
      "21 Jul 04:37    INFO  epoch 67 training [time: 0.13s, train loss: 3.1230]\n",
      "21 Jul 04:37    INFO  epoch 67 evaluating [time: 0.07s, valid_score: 0.104700]\n",
      "21 Jul 04:37    INFO  valid result: \n",
      "recall@10 : 0.185    mrr@10 : 0.1047    ndcg@10 : 0.1241    hit@10 : 0.185    precision@10 : 0.0185\n",
      "21 Jul 04:37    INFO  Finished training, best eval result in epoch 56\n"
     ]
    }
   ],
   "source": [
    "# trainer loading and initialization\n",
    "trainer = get_trainer(config['MODEL_TYPE'], config['model'])(config, model)\n",
    "\n",
    "# model training\n",
    "best_valid_score, best_valid_result = trainer.fit(\n",
    "    train_data, valid_data, saved=True, show_progress=config['show_progress']\n",
    ")"
   ]
  },
  {
   "cell_type": "code",
   "execution_count": 31,
   "metadata": {},
   "outputs": [
    {
     "data": {
      "text/plain": [
       "4.07040704070407"
      ]
     },
     "execution_count": 31,
     "metadata": {},
     "output_type": "execute_result"
    }
   ],
   "source": [
    "0.0185 / 0.004545"
   ]
  },
  {
   "cell_type": "code",
   "execution_count": 30,
   "metadata": {},
   "outputs": [
    {
     "data": {
      "text/plain": [
       "0.004545454545454545"
      ]
     },
     "execution_count": 30,
     "metadata": {},
     "output_type": "execute_result"
    }
   ],
   "source": [
    "10 / 2200 "
   ]
  },
  {
   "cell_type": "code",
   "execution_count": 22,
   "metadata": {},
   "outputs": [],
   "source": [
    "yaml_data = \"\"\"\n",
    "USER_ID_FIELD: user_id\n",
    "ITEM_ID_FIELD: item_id\n",
    "TIME_FIELD: timestamp\n",
    "\n",
    "load_col:\n",
    "    inter: [user_id, item_id, timestamp]\n",
    "\"\"\"\n",
    "\n",
    "with open(\"ease.yaml\",\"w\") as f:\n",
    "    f.write(yaml_data)"
   ]
  },
  {
   "cell_type": "code",
   "execution_count": 23,
   "metadata": {},
   "outputs": [],
   "source": [
    "model_name = 'ease' \n",
    "parameter_dict = {'embedding_size' : 8}\n",
    "config = Config(model=model_name.upper(), dataset='recbole_train', config_file_list=['ease.yaml'], config_dict = parameter_dict)"
   ]
  },
  {
   "cell_type": "code",
   "execution_count": 24,
   "metadata": {},
   "outputs": [],
   "source": [
    "config['epochs'] = 100 \n",
    "config['show_progress'] = False\n",
    "config['device'] = torch.device('cuda' if torch.cuda.is_available() else 'cpu')\n",
    "config['train_batch_size'] = 128 \n",
    "config['train_neg_sample_args'] = {'distribution': 'uniform', 'sample_num': 5, 'alpha': 1.0, 'dynamic': False, 'candidate_num': 0}\n",
    "config['eval_args'] = {'group_by':'user','order': 'TO','split': {'LS' : 'valid_and_test'},'mode': 'full'}"
   ]
  },
  {
   "cell_type": "code",
   "execution_count": 25,
   "metadata": {},
   "outputs": [
    {
     "name": "stderr",
     "output_type": "stream",
     "text": [
      "21 Jul 04:39    INFO  \n",
      "General Hyper Parameters:\n",
      "gpu_id = 0\n",
      "use_gpu = True\n",
      "seed = 2020\n",
      "state = INFO\n",
      "reproducibility = True\n",
      "data_path = dataset/recbole_train\n",
      "checkpoint_dir = saved\n",
      "show_progress = False\n",
      "save_dataset = False\n",
      "dataset_save_path = None\n",
      "save_dataloaders = False\n",
      "dataloaders_save_path = None\n",
      "log_wandb = False\n",
      "\n",
      "Training Hyper Parameters:\n",
      "epochs = 100\n",
      "train_batch_size = 128\n",
      "learner = adam\n",
      "learning_rate = 0.001\n",
      "train_neg_sample_args = {'distribution': 'uniform', 'sample_num': 5, 'alpha': 1.0, 'dynamic': False, 'candidate_num': 0}\n",
      "eval_step = 1\n",
      "stopping_step = 10\n",
      "clip_grad_norm = None\n",
      "weight_decay = 0.0\n",
      "loss_decimal_place = 4\n",
      "\n",
      "Evaluation Hyper Parameters:\n",
      "eval_args = {'group_by': 'user', 'order': 'TO', 'split': {'LS': 'valid_and_test'}, 'mode': 'full'}\n",
      "repeatable = False\n",
      "metrics = ['Recall', 'MRR', 'NDCG', 'Hit', 'Precision']\n",
      "topk = [10]\n",
      "valid_metric = MRR@10\n",
      "valid_metric_bigger = True\n",
      "eval_batch_size = 4096\n",
      "metric_decimal_place = 4\n",
      "\n",
      "Dataset Hyper Parameters:\n",
      "field_separator = \t\n",
      "seq_separator =  \n",
      "USER_ID_FIELD = user_id\n",
      "ITEM_ID_FIELD = item_id\n",
      "RATING_FIELD = rating\n",
      "TIME_FIELD = timestamp\n",
      "seq_len = None\n",
      "LABEL_FIELD = label\n",
      "threshold = None\n",
      "NEG_PREFIX = neg_\n",
      "load_col = {'inter': ['user_id', 'item_id', 'timestamp']}\n",
      "unload_col = None\n",
      "unused_col = None\n",
      "additional_feat_suffix = None\n",
      "rm_dup_inter = None\n",
      "val_interval = None\n",
      "filter_inter_by_user_or_item = True\n",
      "user_inter_num_interval = [0,inf)\n",
      "item_inter_num_interval = [0,inf)\n",
      "alias_of_user_id = None\n",
      "alias_of_item_id = None\n",
      "alias_of_entity_id = None\n",
      "alias_of_relation_id = None\n",
      "preload_weight = None\n",
      "normalize_field = None\n",
      "normalize_all = None\n",
      "ITEM_LIST_LENGTH_FIELD = item_length\n",
      "LIST_SUFFIX = _list\n",
      "MAX_ITEM_LIST_LENGTH = 50\n",
      "POSITION_FIELD = position_id\n",
      "HEAD_ENTITY_ID_FIELD = head_id\n",
      "TAIL_ENTITY_ID_FIELD = tail_id\n",
      "RELATION_ID_FIELD = relation_id\n",
      "ENTITY_ID_FIELD = entity_id\n",
      "benchmark_filename = None\n",
      "\n",
      "Other Hyper Parameters: \n",
      "worker = 0\n",
      "wandb_project = recbole\n",
      "shuffle = True\n",
      "require_pow = False\n",
      "enable_amp = False\n",
      "enable_scaler = False\n",
      "transform = None\n",
      "reg_weight = 250.0\n",
      "numerical_features = []\n",
      "discretization = None\n",
      "kg_reverse_r = False\n",
      "entity_kg_num_interval = [0,inf)\n",
      "relation_kg_num_interval = [0,inf)\n",
      "MODEL_TYPE = ModelType.TRADITIONAL\n",
      "embedding_size = 8\n",
      "MODEL_INPUT_TYPE = InputType.POINTWISE\n",
      "eval_type = EvaluatorType.RANKING\n",
      "single_spec = True\n",
      "local_rank = 0\n",
      "device = cuda\n",
      "eval_neg_sample_args = {'distribution': 'uniform', 'sample_num': 'none'}\n",
      "\n",
      "\n"
     ]
    }
   ],
   "source": [
    "logger = getLogger()\n",
    "init_seed(config['seed'], config['reproducibility'])\n",
    "init_logger(config)\n",
    "\n",
    "logger.info(config)"
   ]
  },
  {
   "cell_type": "code",
   "execution_count": 26,
   "metadata": {},
   "outputs": [
    {
     "name": "stderr",
     "output_type": "stream",
     "text": [
      "21 Jul 04:39    INFO  recbole_train\n",
      "The number of users: 230\n",
      "Average actions of users: 9.829694323144105\n",
      "The number of items: 1486\n",
      "Average actions of items: 1.5158249158249157\n",
      "The number of inters: 2251\n",
      "The sparsity of the dataset: 99.34138919772954%\n",
      "Remain Fields: ['user_id', 'item_id', 'timestamp']\n",
      "21 Jul 04:39    INFO  [Training]: train_batch_size = [128] train_neg_sample_args: [{'distribution': 'uniform', 'sample_num': 5, 'alpha': 1.0, 'dynamic': False, 'candidate_num': 0}]\n",
      "21 Jul 04:39    INFO  [Evaluation]: eval_batch_size = [4096] eval_args: [{'group_by': 'user', 'order': 'TO', 'split': {'LS': 'valid_and_test'}, 'mode': 'full'}]\n"
     ]
    }
   ],
   "source": [
    "# dataset filtering\n",
    "dataset = create_dataset(config)\n",
    "logger.info(dataset)\n",
    "\n",
    "# dataset splitting\n",
    "train_data, valid_data, test_data = data_preparation(config, dataset)"
   ]
  },
  {
   "cell_type": "code",
   "execution_count": 28,
   "metadata": {},
   "outputs": [
    {
     "name": "stderr",
     "output_type": "stream",
     "text": [
      "21 Jul 04:39    INFO  EASE()\n",
      "Trainable parameters: 1\n"
     ]
    }
   ],
   "source": [
    "init_seed(config['seed'], config['reproducibility'])\n",
    "model = EASE(config, train_data.dataset).to(config['device'])\n",
    "logger.info(model)"
   ]
  },
  {
   "cell_type": "code",
   "execution_count": 29,
   "metadata": {},
   "outputs": [
    {
     "name": "stderr",
     "output_type": "stream",
     "text": [
      "21 Jul 04:39    INFO  epoch 0 training [time: 0.07s, train loss: 0.0000]\n",
      "21 Jul 04:39    INFO  epoch 0 evaluating [time: 0.07s, valid_score: 0.163600]\n",
      "21 Jul 04:39    INFO  valid result: \n",
      "recall@10 : 0.185    mrr@10 : 0.1636    ndcg@10 : 0.1686    hit@10 : 0.185    precision@10 : 0.0185\n",
      "21 Jul 04:39    INFO  Saving current: saved/EASE-Jul-21-2023_04-39-54.pth\n"
     ]
    }
   ],
   "source": [
    "# trainer loading and initialization\n",
    "trainer = get_trainer(config['MODEL_TYPE'], config['model'])(config, model)\n",
    "\n",
    "# model training\n",
    "best_valid_score, best_valid_result = trainer.fit(\n",
    "    train_data, valid_data, saved=True, show_progress=config['show_progress']\n",
    ")"
   ]
  },
  {
   "cell_type": "code",
   "execution_count": null,
   "metadata": {},
   "outputs": [],
   "source": []
  }
 ],
 "metadata": {
  "kernelspec": {
   "display_name": "recbole",
   "language": "python",
   "name": "python3"
  },
  "language_info": {
   "codemirror_mode": {
    "name": "ipython",
    "version": 3
   },
   "file_extension": ".py",
   "mimetype": "text/x-python",
   "name": "python",
   "nbconvert_exporter": "python",
   "pygments_lexer": "ipython3",
   "version": "3.8.5"
  },
  "orig_nbformat": 4
 },
 "nbformat": 4,
 "nbformat_minor": 2
}
