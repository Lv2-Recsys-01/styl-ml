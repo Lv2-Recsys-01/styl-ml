{
 "cells": [
  {
   "cell_type": "code",
   "execution_count": 1,
   "metadata": {},
   "outputs": [
    {
     "name": "stderr",
     "output_type": "stream",
     "text": [
      "c:\\Users\\drago\\miniconda3\\envs\\node2vec\\lib\\site-packages\\tqdm\\auto.py:21: TqdmWarning: IProgress not found. Please update jupyter and ipywidgets. See https://ipywidgets.readthedocs.io/en/stable/user_install.html\n",
      "  from .autonotebook import tqdm as notebook_tqdm\n"
     ]
    }
   ],
   "source": [
    "import networkx as nx\n",
    "from node2vec import Node2Vec\n",
    "import pandas as pd\n",
    "from tqdm import tqdm"
   ]
  },
  {
   "cell_type": "code",
   "execution_count": 2,
   "metadata": {},
   "outputs": [
    {
     "data": {
      "text/html": [
       "<div>\n",
       "<style scoped>\n",
       "    .dataframe tbody tr th:only-of-type {\n",
       "        vertical-align: middle;\n",
       "    }\n",
       "\n",
       "    .dataframe tbody tr th {\n",
       "        vertical-align: top;\n",
       "    }\n",
       "\n",
       "    .dataframe thead th {\n",
       "        text-align: right;\n",
       "    }\n",
       "</style>\n",
       "<table border=\"1\" class=\"dataframe\">\n",
       "  <thead>\n",
       "    <tr style=\"text-align: right;\">\n",
       "      <th></th>\n",
       "      <th>outfit_id</th>\n",
       "      <th>gender</th>\n",
       "      <th>style</th>\n",
       "      <th>season</th>\n",
       "      <th>tags</th>\n",
       "      <th>new_style</th>\n",
       "      <th>style_id</th>\n",
       "    </tr>\n",
       "  </thead>\n",
       "  <tbody>\n",
       "    <tr>\n",
       "      <th>0</th>\n",
       "      <td>0</td>\n",
       "      <td>F</td>\n",
       "      <td>스트릿</td>\n",
       "      <td>가을</td>\n",
       "      <td>{스트릿, 가을, 반팔티셔츠}</td>\n",
       "      <td>F_스트릿</td>\n",
       "      <td>0</td>\n",
       "    </tr>\n",
       "    <tr>\n",
       "      <th>1</th>\n",
       "      <td>1</td>\n",
       "      <td>F</td>\n",
       "      <td>캐주얼</td>\n",
       "      <td>봄</td>\n",
       "      <td>{스니커즈, 봄, 캐주얼, 나이키}</td>\n",
       "      <td>F_캐주얼</td>\n",
       "      <td>1</td>\n",
       "    </tr>\n",
       "    <tr>\n",
       "      <th>2</th>\n",
       "      <td>2</td>\n",
       "      <td>F</td>\n",
       "      <td>캐주얼</td>\n",
       "      <td>여름</td>\n",
       "      <td>{캐주얼, 여름, 레더스커트, 셔츠, 워커}</td>\n",
       "      <td>F_캐주얼</td>\n",
       "      <td>1</td>\n",
       "    </tr>\n",
       "    <tr>\n",
       "      <th>3</th>\n",
       "      <td>3</td>\n",
       "      <td>F</td>\n",
       "      <td>로맨틱</td>\n",
       "      <td>여름</td>\n",
       "      <td>{트랙팬츠, 스니커즈, 나이키, 슬리브리스, 여름, 로맨틱, 숄더백}</td>\n",
       "      <td>F_로맨틱</td>\n",
       "      <td>2</td>\n",
       "    </tr>\n",
       "    <tr>\n",
       "      <th>4</th>\n",
       "      <td>4</td>\n",
       "      <td>M</td>\n",
       "      <td>스트릿</td>\n",
       "      <td>여름</td>\n",
       "      <td>{스트릿, 스니커즈, 베스트, 나이키, 여름, 데님팬츠, 비니, 크로스백}</td>\n",
       "      <td>M_스트릿</td>\n",
       "      <td>3</td>\n",
       "    </tr>\n",
       "    <tr>\n",
       "      <th>...</th>\n",
       "      <td>...</td>\n",
       "      <td>...</td>\n",
       "      <td>...</td>\n",
       "      <td>...</td>\n",
       "      <td>...</td>\n",
       "      <td>...</td>\n",
       "      <td>...</td>\n",
       "    </tr>\n",
       "    <tr>\n",
       "      <th>10424</th>\n",
       "      <td>10424</td>\n",
       "      <td>M</td>\n",
       "      <td>스트릿</td>\n",
       "      <td>여름</td>\n",
       "      <td>{스트릿, 여름}</td>\n",
       "      <td>M_스트릿</td>\n",
       "      <td>3</td>\n",
       "    </tr>\n",
       "    <tr>\n",
       "      <th>10425</th>\n",
       "      <td>10425</td>\n",
       "      <td>F</td>\n",
       "      <td>걸리시</td>\n",
       "      <td>여름</td>\n",
       "      <td>{여름, 걸리시}</td>\n",
       "      <td>F_걸리시</td>\n",
       "      <td>4</td>\n",
       "    </tr>\n",
       "    <tr>\n",
       "      <th>10426</th>\n",
       "      <td>10426</td>\n",
       "      <td>F</td>\n",
       "      <td>스트릿</td>\n",
       "      <td>여름</td>\n",
       "      <td>{스트릿, 여름}</td>\n",
       "      <td>F_스트릿</td>\n",
       "      <td>0</td>\n",
       "    </tr>\n",
       "    <tr>\n",
       "      <th>10427</th>\n",
       "      <td>10427</td>\n",
       "      <td>F</td>\n",
       "      <td>스트릿</td>\n",
       "      <td>여름</td>\n",
       "      <td>{스트릿, 여름}</td>\n",
       "      <td>F_스트릿</td>\n",
       "      <td>0</td>\n",
       "    </tr>\n",
       "    <tr>\n",
       "      <th>10428</th>\n",
       "      <td>10428</td>\n",
       "      <td>F</td>\n",
       "      <td>걸리시</td>\n",
       "      <td>여름</td>\n",
       "      <td>{여름, 걸리시}</td>\n",
       "      <td>F_걸리시</td>\n",
       "      <td>4</td>\n",
       "    </tr>\n",
       "  </tbody>\n",
       "</table>\n",
       "<p>10429 rows × 7 columns</p>\n",
       "</div>"
      ],
      "text/plain": [
       "       outfit_id gender style season  \\\n",
       "0              0      F   스트릿     가을   \n",
       "1              1      F   캐주얼      봄   \n",
       "2              2      F   캐주얼     여름   \n",
       "3              3      F   로맨틱     여름   \n",
       "4              4      M   스트릿     여름   \n",
       "...          ...    ...   ...    ...   \n",
       "10424      10424      M   스트릿     여름   \n",
       "10425      10425      F   걸리시     여름   \n",
       "10426      10426      F   스트릿     여름   \n",
       "10427      10427      F   스트릿     여름   \n",
       "10428      10428      F   걸리시     여름   \n",
       "\n",
       "                                            tags new_style  style_id  \n",
       "0                               {스트릿, 가을, 반팔티셔츠}     F_스트릿         0  \n",
       "1                            {스니커즈, 봄, 캐주얼, 나이키}     F_캐주얼         1  \n",
       "2                       {캐주얼, 여름, 레더스커트, 셔츠, 워커}     F_캐주얼         1  \n",
       "3         {트랙팬츠, 스니커즈, 나이키, 슬리브리스, 여름, 로맨틱, 숄더백}     F_로맨틱         2  \n",
       "4      {스트릿, 스니커즈, 베스트, 나이키, 여름, 데님팬츠, 비니, 크로스백}     M_스트릿         3  \n",
       "...                                          ...       ...       ...  \n",
       "10424                                  {스트릿, 여름}     M_스트릿         3  \n",
       "10425                                  {여름, 걸리시}     F_걸리시         4  \n",
       "10426                                  {스트릿, 여름}     F_스트릿         0  \n",
       "10427                                  {스트릿, 여름}     F_스트릿         0  \n",
       "10428                                  {여름, 걸리시}     F_걸리시         4  \n",
       "\n",
       "[10429 rows x 7 columns]"
      ]
     },
     "execution_count": 2,
     "metadata": {},
     "output_type": "execute_result"
    }
   ],
   "source": [
    "outfit = pd.read_csv(\"./outfit_2.csv\")\n",
    "outfit_map = {v:i for i, v in enumerate(outfit['outfit_id'].unique())}\n",
    "outfit['outfit_id'] = outfit['outfit_id'].map(outfit_map)\n",
    "outfit['tags'] = outfit['tags'].apply(lambda x: set(x.split(\",\")))\n",
    "outfit"
   ]
  },
  {
   "cell_type": "code",
   "execution_count": 3,
   "metadata": {},
   "outputs": [],
   "source": [
    "# male = outfit[outfit['gender']=='M'].copy()\n",
    "# female = outfit[outfit['gender']=='F'].copy()"
   ]
  },
  {
   "cell_type": "code",
   "execution_count": 4,
   "metadata": {},
   "outputs": [],
   "source": [
    "# male.info()"
   ]
  },
  {
   "cell_type": "code",
   "execution_count": 5,
   "metadata": {},
   "outputs": [],
   "source": [
    "def jaccard_similarity(tags1: set, tags2: set):\n",
    "    # tags1 = set(tags1.split(\",\"))\n",
    "    # tags2 = set(tags2.split(\",\"))\n",
    "    intersection = tags1.intersection(tags2)\n",
    "    union = tags1.union(tags2)\n",
    "    similarity = len(intersection) / len(union)\n",
    "    return similarity"
   ]
  },
  {
   "cell_type": "code",
   "execution_count": 6,
   "metadata": {},
   "outputs": [],
   "source": [
    "# jaccard_similarity(outfit.loc[10426, 'tags'], outfit.loc[10427, 'tags'])"
   ]
  },
  {
   "cell_type": "code",
   "execution_count": 7,
   "metadata": {},
   "outputs": [],
   "source": [
    "def get_sim_df(df: pd.DataFrame):\n",
    "    n = len(df)\n",
    "    result = list()\n",
    "\n",
    "    for i in tqdm(range(n-1)):\n",
    "        for j in range(i+1, n):\n",
    "            similarity = jaccard_similarity(df.iloc[i, 4], df.iloc[j, 4])\n",
    "            result.append([df.iloc[i, 0], df.iloc[j, 0], similarity])\n",
    "        \n",
    "    sim_df = pd.DataFrame(result, columns=['id_1', 'id_2', 'similarity'])\n",
    "    \n",
    "    return sim_df"
   ]
  },
  {
   "cell_type": "code",
   "execution_count": 8,
   "metadata": {},
   "outputs": [],
   "source": [
    "# male_sim = get_sim_df(male)"
   ]
  },
  {
   "cell_type": "code",
   "execution_count": 9,
   "metadata": {},
   "outputs": [],
   "source": [
    "# male_sim.to_csv(\"./male_sim.csv\", index=False)"
   ]
  },
  {
   "cell_type": "code",
   "execution_count": 10,
   "metadata": {},
   "outputs": [],
   "source": [
    "# female_sim = get_sim_df(female)"
   ]
  },
  {
   "cell_type": "code",
   "execution_count": 11,
   "metadata": {},
   "outputs": [],
   "source": [
    "# female_sim.to_csv(\"./female_sim.csv\", index=False)"
   ]
  },
  {
   "cell_type": "code",
   "execution_count": 12,
   "metadata": {},
   "outputs": [
    {
     "data": {
      "text/html": [
       "<div>\n",
       "<style scoped>\n",
       "    .dataframe tbody tr th:only-of-type {\n",
       "        vertical-align: middle;\n",
       "    }\n",
       "\n",
       "    .dataframe tbody tr th {\n",
       "        vertical-align: top;\n",
       "    }\n",
       "\n",
       "    .dataframe thead th {\n",
       "        text-align: right;\n",
       "    }\n",
       "</style>\n",
       "<table border=\"1\" class=\"dataframe\">\n",
       "  <thead>\n",
       "    <tr style=\"text-align: right;\">\n",
       "      <th></th>\n",
       "      <th>id_1</th>\n",
       "      <th>id_2</th>\n",
       "      <th>similarity</th>\n",
       "    </tr>\n",
       "  </thead>\n",
       "  <tbody>\n",
       "    <tr>\n",
       "      <th>0</th>\n",
       "      <td>4</td>\n",
       "      <td>6</td>\n",
       "      <td>0.300000</td>\n",
       "    </tr>\n",
       "    <tr>\n",
       "      <th>1</th>\n",
       "      <td>4</td>\n",
       "      <td>7</td>\n",
       "      <td>0.666667</td>\n",
       "    </tr>\n",
       "    <tr>\n",
       "      <th>2</th>\n",
       "      <td>4</td>\n",
       "      <td>8</td>\n",
       "      <td>0.250000</td>\n",
       "    </tr>\n",
       "    <tr>\n",
       "      <th>3</th>\n",
       "      <td>4</td>\n",
       "      <td>10</td>\n",
       "      <td>0.250000</td>\n",
       "    </tr>\n",
       "    <tr>\n",
       "      <th>4</th>\n",
       "      <td>4</td>\n",
       "      <td>12</td>\n",
       "      <td>0.300000</td>\n",
       "    </tr>\n",
       "    <tr>\n",
       "      <th>...</th>\n",
       "      <td>...</td>\n",
       "      <td>...</td>\n",
       "      <td>...</td>\n",
       "    </tr>\n",
       "    <tr>\n",
       "      <th>4643623</th>\n",
       "      <td>10406</td>\n",
       "      <td>10414</td>\n",
       "      <td>0.333333</td>\n",
       "    </tr>\n",
       "    <tr>\n",
       "      <th>4643624</th>\n",
       "      <td>10406</td>\n",
       "      <td>10424</td>\n",
       "      <td>0.333333</td>\n",
       "    </tr>\n",
       "    <tr>\n",
       "      <th>4643625</th>\n",
       "      <td>10410</td>\n",
       "      <td>10414</td>\n",
       "      <td>0.333333</td>\n",
       "    </tr>\n",
       "    <tr>\n",
       "      <th>4643626</th>\n",
       "      <td>10410</td>\n",
       "      <td>10424</td>\n",
       "      <td>1.000000</td>\n",
       "    </tr>\n",
       "    <tr>\n",
       "      <th>4643627</th>\n",
       "      <td>10414</td>\n",
       "      <td>10424</td>\n",
       "      <td>0.333333</td>\n",
       "    </tr>\n",
       "  </tbody>\n",
       "</table>\n",
       "<p>4643628 rows × 3 columns</p>\n",
       "</div>"
      ],
      "text/plain": [
       "          id_1   id_2  similarity\n",
       "0            4      6    0.300000\n",
       "1            4      7    0.666667\n",
       "2            4      8    0.250000\n",
       "3            4     10    0.250000\n",
       "4            4     12    0.300000\n",
       "...        ...    ...         ...\n",
       "4643623  10406  10414    0.333333\n",
       "4643624  10406  10424    0.333333\n",
       "4643625  10410  10414    0.333333\n",
       "4643626  10410  10424    1.000000\n",
       "4643627  10414  10424    0.333333\n",
       "\n",
       "[4643628 rows x 3 columns]"
      ]
     },
     "execution_count": 12,
     "metadata": {},
     "output_type": "execute_result"
    }
   ],
   "source": [
    "male_sim = pd.read_csv(\"./male_sim.csv\")\n",
    "male_sim"
   ]
  },
  {
   "cell_type": "code",
   "execution_count": 17,
   "metadata": {},
   "outputs": [
    {
     "data": {
      "text/html": [
       "<div>\n",
       "<style scoped>\n",
       "    .dataframe tbody tr th:only-of-type {\n",
       "        vertical-align: middle;\n",
       "    }\n",
       "\n",
       "    .dataframe tbody tr th {\n",
       "        vertical-align: top;\n",
       "    }\n",
       "\n",
       "    .dataframe thead th {\n",
       "        text-align: right;\n",
       "    }\n",
       "</style>\n",
       "<table border=\"1\" class=\"dataframe\">\n",
       "  <thead>\n",
       "    <tr style=\"text-align: right;\">\n",
       "      <th></th>\n",
       "      <th>id_1</th>\n",
       "      <th>id_2</th>\n",
       "      <th>similarity</th>\n",
       "    </tr>\n",
       "  </thead>\n",
       "  <tbody>\n",
       "    <tr>\n",
       "      <th>0</th>\n",
       "      <td>4</td>\n",
       "      <td>6</td>\n",
       "      <td>0.300000</td>\n",
       "    </tr>\n",
       "    <tr>\n",
       "      <th>1</th>\n",
       "      <td>4</td>\n",
       "      <td>7</td>\n",
       "      <td>0.666667</td>\n",
       "    </tr>\n",
       "    <tr>\n",
       "      <th>2</th>\n",
       "      <td>4</td>\n",
       "      <td>8</td>\n",
       "      <td>0.250000</td>\n",
       "    </tr>\n",
       "    <tr>\n",
       "      <th>3</th>\n",
       "      <td>4</td>\n",
       "      <td>10</td>\n",
       "      <td>0.250000</td>\n",
       "    </tr>\n",
       "    <tr>\n",
       "      <th>4</th>\n",
       "      <td>4</td>\n",
       "      <td>12</td>\n",
       "      <td>0.300000</td>\n",
       "    </tr>\n",
       "    <tr>\n",
       "      <th>...</th>\n",
       "      <td>...</td>\n",
       "      <td>...</td>\n",
       "      <td>...</td>\n",
       "    </tr>\n",
       "    <tr>\n",
       "      <th>4643623</th>\n",
       "      <td>10406</td>\n",
       "      <td>10414</td>\n",
       "      <td>0.333333</td>\n",
       "    </tr>\n",
       "    <tr>\n",
       "      <th>4643624</th>\n",
       "      <td>10406</td>\n",
       "      <td>10424</td>\n",
       "      <td>0.333333</td>\n",
       "    </tr>\n",
       "    <tr>\n",
       "      <th>4643625</th>\n",
       "      <td>10410</td>\n",
       "      <td>10414</td>\n",
       "      <td>0.333333</td>\n",
       "    </tr>\n",
       "    <tr>\n",
       "      <th>4643626</th>\n",
       "      <td>10410</td>\n",
       "      <td>10424</td>\n",
       "      <td>1.000000</td>\n",
       "    </tr>\n",
       "    <tr>\n",
       "      <th>4643627</th>\n",
       "      <td>10414</td>\n",
       "      <td>10424</td>\n",
       "      <td>0.333333</td>\n",
       "    </tr>\n",
       "  </tbody>\n",
       "</table>\n",
       "<p>2742170 rows × 3 columns</p>\n",
       "</div>"
      ],
      "text/plain": [
       "          id_1   id_2  similarity\n",
       "0            4      6    0.300000\n",
       "1            4      7    0.666667\n",
       "2            4      8    0.250000\n",
       "3            4     10    0.250000\n",
       "4            4     12    0.300000\n",
       "...        ...    ...         ...\n",
       "4643623  10406  10414    0.333333\n",
       "4643624  10406  10424    0.333333\n",
       "4643625  10410  10414    0.333333\n",
       "4643626  10410  10424    1.000000\n",
       "4643627  10414  10424    0.333333\n",
       "\n",
       "[2742170 rows x 3 columns]"
      ]
     },
     "execution_count": 17,
     "metadata": {},
     "output_type": "execute_result"
    }
   ],
   "source": [
    "male_sim = male_sim[male_sim['similarity']!=0]\n",
    "male_sim"
   ]
  },
  {
   "cell_type": "code",
   "execution_count": 18,
   "metadata": {},
   "outputs": [],
   "source": [
    "male_graph = nx.Graph()\n",
    "for row in male_sim.values:\n",
    "    male_graph.add_edge(int(row[0]), int(row[1]), weight=row[2])   "
   ]
  },
  {
   "cell_type": "code",
   "execution_count": 19,
   "metadata": {},
   "outputs": [
    {
     "data": {
      "text/plain": [
       "3048"
      ]
     },
     "execution_count": 19,
     "metadata": {},
     "output_type": "execute_result"
    }
   ],
   "source": [
    "male_graph.number_of_nodes()"
   ]
  },
  {
   "cell_type": "code",
   "execution_count": 20,
   "metadata": {},
   "outputs": [
    {
     "data": {
      "text/plain": [
       "2742170"
      ]
     },
     "execution_count": 20,
     "metadata": {},
     "output_type": "execute_result"
    }
   ],
   "source": [
    "male_graph.number_of_edges()"
   ]
  },
  {
   "cell_type": "code",
   "execution_count": 22,
   "metadata": {},
   "outputs": [
    {
     "name": "stderr",
     "output_type": "stream",
     "text": [
      "Computing transition probabilities:   6%|▌         | 177/3048 [32:55<8:53:59, 11.16s/it] \n"
     ]
    },
    {
     "ename": "KeyboardInterrupt",
     "evalue": "",
     "output_type": "error",
     "traceback": [
      "\u001b[1;31m---------------------------------------------------------------------------\u001b[0m",
      "\u001b[1;31mKeyboardInterrupt\u001b[0m                         Traceback (most recent call last)",
      "Cell \u001b[1;32mIn[22], line 1\u001b[0m\n\u001b[1;32m----> 1\u001b[0m node2vec \u001b[39m=\u001b[39m Node2Vec(male_graph, dimensions\u001b[39m=\u001b[39;49m\u001b[39m64\u001b[39;49m, walk_length\u001b[39m=\u001b[39;49m\u001b[39m5\u001b[39;49m, num_walks\u001b[39m=\u001b[39;49m\u001b[39m50\u001b[39;49m, workers\u001b[39m=\u001b[39;49m\u001b[39m4\u001b[39;49m)\n",
      "File \u001b[1;32mc:\\Users\\drago\\miniconda3\\envs\\node2vec\\lib\\site-packages\\node2vec\\node2vec.py:73\u001b[0m, in \u001b[0;36mNode2Vec.__init__\u001b[1;34m(self, graph, dimensions, walk_length, num_walks, p, q, weight_key, workers, sampling_strategy, quiet, temp_folder, seed)\u001b[0m\n\u001b[0;32m     70\u001b[0m     random\u001b[39m.\u001b[39mseed(seed)\n\u001b[0;32m     71\u001b[0m     np\u001b[39m.\u001b[39mrandom\u001b[39m.\u001b[39mseed(seed)\n\u001b[1;32m---> 73\u001b[0m \u001b[39mself\u001b[39;49m\u001b[39m.\u001b[39;49m_precompute_probabilities()\n\u001b[0;32m     74\u001b[0m \u001b[39mself\u001b[39m\u001b[39m.\u001b[39mwalks \u001b[39m=\u001b[39m \u001b[39mself\u001b[39m\u001b[39m.\u001b[39m_generate_walks()\n",
      "File \u001b[1;32mc:\\Users\\drago\\miniconda3\\envs\\node2vec\\lib\\site-packages\\node2vec\\node2vec.py:133\u001b[0m, in \u001b[0;36mNode2Vec._precompute_probabilities\u001b[1;34m(self)\u001b[0m\n\u001b[0;32m    131\u001b[0m     \u001b[39m# Normalize\u001b[39;00m\n\u001b[0;32m    132\u001b[0m     unnormalized_weights \u001b[39m=\u001b[39m np\u001b[39m.\u001b[39marray(unnormalized_weights)\n\u001b[1;32m--> 133\u001b[0m     d_graph[current_node][\u001b[39mself\u001b[39m\u001b[39m.\u001b[39mPROBABILITIES_KEY][\n\u001b[0;32m    134\u001b[0m         source] \u001b[39m=\u001b[39m unnormalized_weights \u001b[39m/\u001b[39m unnormalized_weights\u001b[39m.\u001b[39msum()\n\u001b[0;32m    136\u001b[0m \u001b[39m# Calculate first_travel weights for source\u001b[39;00m\n\u001b[0;32m    137\u001b[0m first_travel_weights \u001b[39m=\u001b[39m []\n",
      "\u001b[1;31mKeyboardInterrupt\u001b[0m: "
     ]
    }
   ],
   "source": [
    "node2vec = Node2Vec(male_graph, dimensions=64, walk_length=5, num_walks=50, workers=4)"
   ]
  }
 ],
 "metadata": {
  "kernelspec": {
   "display_name": "Python 3",
   "language": "python",
   "name": "python3"
  },
  "language_info": {
   "codemirror_mode": {
    "name": "ipython",
    "version": 3
   },
   "file_extension": ".py",
   "mimetype": "text/x-python",
   "name": "python",
   "nbconvert_exporter": "python",
   "pygments_lexer": "ipython3",
   "version": "3.10.11"
  },
  "orig_nbformat": 4
 },
 "nbformat": 4,
 "nbformat_minor": 2
}
