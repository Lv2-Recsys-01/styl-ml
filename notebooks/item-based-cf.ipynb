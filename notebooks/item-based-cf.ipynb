{
 "cells": [
  {
   "cell_type": "code",
   "execution_count": 14,
   "metadata": {},
   "outputs": [],
   "source": [
    "import pandas as pd\n",
    "import numpy as np\n"
   ]
  },
  {
   "cell_type": "code",
   "execution_count": 15,
   "metadata": {},
   "outputs": [],
   "source": [
    "train_df = pd.read_csv('../data/train-test/train.csv')\n",
    "test_df = pd.read_csv('../data/train-test/test.csv')"
   ]
  },
  {
   "cell_type": "code",
   "execution_count": 19,
   "metadata": {},
   "outputs": [],
   "source": [
    "# Get unique outfit_ids from both train_df and test_df\n",
    "train_outfit_ids = train_df['outfit_id'].unique()\n",
    "test_outfit_ids = test_df['outfit_id'].unique()\n",
    "\n",
    "# Combine unique outfit_ids from train and test DataFrames\n",
    "combined_outfit_ids = list(set(train_outfit_ids).union(set(test_outfit_ids)))\n",
    "\n",
    "# Create a DataFrame with the column name 'outfit_id'\n",
    "combined_df = pd.DataFrame({'outfit_id': combined_outfit_ids})\n",
    "\n",
    "# Save the combined unique outfit_ids to a single CSV file\n",
    "combined_df.to_csv('../data/train-test/total_outfit_id.csv', index=False)"
   ]
  },
  {
   "cell_type": "code",
   "execution_count": null,
   "metadata": {},
   "outputs": [],
   "source": []
  },
  {
   "cell_type": "code",
   "execution_count": null,
   "metadata": {},
   "outputs": [],
   "source": []
  }
 ],
 "metadata": {
  "kernelspec": {
   "display_name": "jun",
   "language": "python",
   "name": "python3"
  },
  "language_info": {
   "codemirror_mode": {
    "name": "ipython",
    "version": 3
   },
   "file_extension": ".py",
   "mimetype": "text/x-python",
   "name": "python",
   "nbconvert_exporter": "python",
   "pygments_lexer": "ipython3",
   "version": "3.9.0"
  },
  "orig_nbformat": 4
 },
 "nbformat": 4,
 "nbformat_minor": 2
}
